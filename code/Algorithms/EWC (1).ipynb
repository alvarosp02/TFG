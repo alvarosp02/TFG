{
  "nbformat": 4,
  "nbformat_minor": 0,
  "metadata": {
    "colab": {
      "provenance": []
    },
    "kernelspec": {
      "name": "python3",
      "display_name": "Python 3"
    },
    "language_info": {
      "name": "python"
    }
  },
  "cells": [
    {
      "cell_type": "code",
      "source": [
        "!pip install avalanche-lib"
      ],
      "metadata": {
        "id": "wooe9buO2LDD",
        "colab": {
          "base_uri": "https://localhost:8080/"
        },
        "outputId": "39200fb9-d928-46e2-ba11-fa550d5d11c1"
      },
      "execution_count": null,
      "outputs": [
        {
          "output_type": "stream",
          "name": "stdout",
          "text": [
            "Collecting avalanche-lib\n",
            "  Downloading avalanche_lib-0.5.0-py3-none-any.whl.metadata (12 kB)\n",
            "Requirement already satisfied: typing-extensions>=4.6.0 in /usr/local/lib/python3.10/dist-packages (from avalanche-lib) (4.12.2)\n",
            "Requirement already satisfied: psutil in /usr/local/lib/python3.10/dist-packages (from avalanche-lib) (5.9.5)\n",
            "Collecting gputil (from avalanche-lib)\n",
            "  Downloading GPUtil-1.4.0.tar.gz (5.5 kB)\n",
            "  Preparing metadata (setup.py) ... \u001b[?25l\u001b[?25hdone\n",
            "Requirement already satisfied: scikit-learn in /usr/local/lib/python3.10/dist-packages (from avalanche-lib) (1.3.2)\n",
            "Requirement already satisfied: matplotlib in /usr/local/lib/python3.10/dist-packages (from avalanche-lib) (3.7.1)\n",
            "Requirement already satisfied: numpy in /usr/local/lib/python3.10/dist-packages (from avalanche-lib) (1.26.4)\n",
            "Collecting pytorchcv (from avalanche-lib)\n",
            "  Downloading pytorchcv-0.0.71-py2.py3-none-any.whl.metadata (134 kB)\n",
            "\u001b[2K     \u001b[90m━━━━━━━━━━━━━━━━━━━━━━━━━━━━━━━━━━━━━━━━\u001b[0m \u001b[32m134.2/134.2 kB\u001b[0m \u001b[31m3.1 MB/s\u001b[0m eta \u001b[36m0:00:00\u001b[0m\n",
            "\u001b[?25hCollecting wandb (from avalanche-lib)\n",
            "  Downloading wandb-0.17.9-py3-none-manylinux_2_17_x86_64.manylinux2014_x86_64.whl.metadata (9.6 kB)\n",
            "Requirement already satisfied: tensorboard>=1.15 in /usr/local/lib/python3.10/dist-packages (from avalanche-lib) (2.17.0)\n",
            "Requirement already satisfied: tqdm in /usr/local/lib/python3.10/dist-packages (from avalanche-lib) (4.66.5)\n",
            "Requirement already satisfied: torch in /usr/local/lib/python3.10/dist-packages (from avalanche-lib) (2.4.0+cu121)\n",
            "Requirement already satisfied: torchvision in /usr/local/lib/python3.10/dist-packages (from avalanche-lib) (0.19.0+cu121)\n",
            "Collecting torchmetrics (from avalanche-lib)\n",
            "  Downloading torchmetrics-1.4.1-py3-none-any.whl.metadata (20 kB)\n",
            "Requirement already satisfied: gdown in /usr/local/lib/python3.10/dist-packages (from avalanche-lib) (5.1.0)\n",
            "Collecting qpsolvers[open_source_solvers] (from avalanche-lib)\n",
            "  Downloading qpsolvers-4.3.3-py3-none-any.whl.metadata (17 kB)\n",
            "Collecting dill (from avalanche-lib)\n",
            "  Downloading dill-0.3.8-py3-none-any.whl.metadata (10 kB)\n",
            "Requirement already satisfied: packaging in /usr/local/lib/python3.10/dist-packages (from avalanche-lib) (24.1)\n",
            "Requirement already satisfied: absl-py>=0.4 in /usr/local/lib/python3.10/dist-packages (from tensorboard>=1.15->avalanche-lib) (1.4.0)\n",
            "Requirement already satisfied: grpcio>=1.48.2 in /usr/local/lib/python3.10/dist-packages (from tensorboard>=1.15->avalanche-lib) (1.64.1)\n",
            "Requirement already satisfied: markdown>=2.6.8 in /usr/local/lib/python3.10/dist-packages (from tensorboard>=1.15->avalanche-lib) (3.7)\n",
            "Requirement already satisfied: protobuf!=4.24.0,<5.0.0,>=3.19.6 in /usr/local/lib/python3.10/dist-packages (from tensorboard>=1.15->avalanche-lib) (3.20.3)\n",
            "Requirement already satisfied: setuptools>=41.0.0 in /usr/local/lib/python3.10/dist-packages (from tensorboard>=1.15->avalanche-lib) (71.0.4)\n",
            "Requirement already satisfied: six>1.9 in /usr/local/lib/python3.10/dist-packages (from tensorboard>=1.15->avalanche-lib) (1.16.0)\n",
            "Requirement already satisfied: tensorboard-data-server<0.8.0,>=0.7.0 in /usr/local/lib/python3.10/dist-packages (from tensorboard>=1.15->avalanche-lib) (0.7.2)\n",
            "Requirement already satisfied: werkzeug>=1.0.1 in /usr/local/lib/python3.10/dist-packages (from tensorboard>=1.15->avalanche-lib) (3.0.4)\n",
            "Requirement already satisfied: beautifulsoup4 in /usr/local/lib/python3.10/dist-packages (from gdown->avalanche-lib) (4.12.3)\n",
            "Requirement already satisfied: filelock in /usr/local/lib/python3.10/dist-packages (from gdown->avalanche-lib) (3.15.4)\n",
            "Requirement already satisfied: requests[socks] in /usr/local/lib/python3.10/dist-packages (from gdown->avalanche-lib) (2.32.3)\n",
            "Requirement already satisfied: contourpy>=1.0.1 in /usr/local/lib/python3.10/dist-packages (from matplotlib->avalanche-lib) (1.3.0)\n",
            "Requirement already satisfied: cycler>=0.10 in /usr/local/lib/python3.10/dist-packages (from matplotlib->avalanche-lib) (0.12.1)\n",
            "Requirement already satisfied: fonttools>=4.22.0 in /usr/local/lib/python3.10/dist-packages (from matplotlib->avalanche-lib) (4.53.1)\n",
            "Requirement already satisfied: kiwisolver>=1.0.1 in /usr/local/lib/python3.10/dist-packages (from matplotlib->avalanche-lib) (1.4.5)\n",
            "Requirement already satisfied: pillow>=6.2.0 in /usr/local/lib/python3.10/dist-packages (from matplotlib->avalanche-lib) (9.4.0)\n",
            "Requirement already satisfied: pyparsing>=2.3.1 in /usr/local/lib/python3.10/dist-packages (from matplotlib->avalanche-lib) (3.1.4)\n",
            "Requirement already satisfied: python-dateutil>=2.7 in /usr/local/lib/python3.10/dist-packages (from matplotlib->avalanche-lib) (2.8.2)\n",
            "Requirement already satisfied: scipy>=1.2.0 in /usr/local/lib/python3.10/dist-packages (from qpsolvers[open_source_solvers]->avalanche-lib) (1.13.1)\n",
            "Requirement already satisfied: joblib>=1.1.1 in /usr/local/lib/python3.10/dist-packages (from scikit-learn->avalanche-lib) (1.4.2)\n",
            "Requirement already satisfied: threadpoolctl>=2.0.0 in /usr/local/lib/python3.10/dist-packages (from scikit-learn->avalanche-lib) (3.5.0)\n",
            "Requirement already satisfied: sympy in /usr/local/lib/python3.10/dist-packages (from torch->avalanche-lib) (1.13.2)\n",
            "Requirement already satisfied: networkx in /usr/local/lib/python3.10/dist-packages (from torch->avalanche-lib) (3.3)\n",
            "Requirement already satisfied: jinja2 in /usr/local/lib/python3.10/dist-packages (from torch->avalanche-lib) (3.1.4)\n",
            "Requirement already satisfied: fsspec in /usr/local/lib/python3.10/dist-packages (from torch->avalanche-lib) (2024.6.1)\n",
            "Collecting lightning-utilities>=0.8.0 (from torchmetrics->avalanche-lib)\n",
            "  Downloading lightning_utilities-0.11.7-py3-none-any.whl.metadata (5.2 kB)\n",
            "Requirement already satisfied: click!=8.0.0,>=7.1 in /usr/local/lib/python3.10/dist-packages (from wandb->avalanche-lib) (8.1.7)\n",
            "Collecting docker-pycreds>=0.4.0 (from wandb->avalanche-lib)\n",
            "  Downloading docker_pycreds-0.4.0-py2.py3-none-any.whl.metadata (1.8 kB)\n",
            "Collecting gitpython!=3.1.29,>=1.0.0 (from wandb->avalanche-lib)\n",
            "  Downloading GitPython-3.1.43-py3-none-any.whl.metadata (13 kB)\n",
            "Requirement already satisfied: platformdirs in /usr/local/lib/python3.10/dist-packages (from wandb->avalanche-lib) (4.2.2)\n",
            "Requirement already satisfied: pyyaml in /usr/local/lib/python3.10/dist-packages (from wandb->avalanche-lib) (6.0.2)\n",
            "Collecting sentry-sdk>=1.0.0 (from wandb->avalanche-lib)\n",
            "  Downloading sentry_sdk-2.14.0-py2.py3-none-any.whl.metadata (9.7 kB)\n",
            "Collecting setproctitle (from wandb->avalanche-lib)\n",
            "  Downloading setproctitle-1.3.3-cp310-cp310-manylinux_2_5_x86_64.manylinux1_x86_64.manylinux_2_17_x86_64.manylinux2014_x86_64.whl.metadata (9.9 kB)\n",
            "Collecting gitdb<5,>=4.0.1 (from gitpython!=3.1.29,>=1.0.0->wandb->avalanche-lib)\n",
            "  Downloading gitdb-4.0.11-py3-none-any.whl.metadata (1.2 kB)\n",
            "Requirement already satisfied: charset-normalizer<4,>=2 in /usr/local/lib/python3.10/dist-packages (from requests[socks]->gdown->avalanche-lib) (3.3.2)\n",
            "Requirement already satisfied: idna<4,>=2.5 in /usr/local/lib/python3.10/dist-packages (from requests[socks]->gdown->avalanche-lib) (3.8)\n",
            "Requirement already satisfied: urllib3<3,>=1.21.1 in /usr/local/lib/python3.10/dist-packages (from requests[socks]->gdown->avalanche-lib) (2.0.7)\n",
            "Requirement already satisfied: certifi>=2017.4.17 in /usr/local/lib/python3.10/dist-packages (from requests[socks]->gdown->avalanche-lib) (2024.8.30)\n",
            "Requirement already satisfied: MarkupSafe>=2.1.1 in /usr/local/lib/python3.10/dist-packages (from werkzeug>=1.0.1->tensorboard>=1.15->avalanche-lib) (2.1.5)\n",
            "Requirement already satisfied: soupsieve>1.2 in /usr/local/lib/python3.10/dist-packages (from beautifulsoup4->gdown->avalanche-lib) (2.6)\n",
            "Requirement already satisfied: osqp>=0.6.2 in /usr/local/lib/python3.10/dist-packages (from qpsolvers[open_source_solvers]->avalanche-lib) (0.6.7.post0)\n",
            "Collecting piqp>=0.2.2 (from qpsolvers[open_source_solvers]->avalanche-lib)\n",
            "  Downloading piqp-0.4.2-cp310-cp310-manylinux_2_17_x86_64.manylinux2014_x86_64.whl.metadata (4.9 kB)\n",
            "Requirement already satisfied: cvxopt>=1.2.6 in /usr/local/lib/python3.10/dist-packages (from qpsolvers[open_source_solvers]->avalanche-lib) (1.3.2)\n",
            "Collecting qpalm>=1.2.1 (from qpsolvers[open_source_solvers]->avalanche-lib)\n",
            "  Downloading qpalm-1.2.3-cp310-cp310-manylinux_2_17_x86_64.whl.metadata (13 kB)\n",
            "Collecting highspy>=1.1.2.dev3 (from qpsolvers[open_source_solvers]->avalanche-lib)\n",
            "  Downloading highspy-1.7.2-cp310-cp310-manylinux_2_17_x86_64.manylinux2014_x86_64.whl.metadata (10 kB)\n",
            "Requirement already satisfied: ecos>=2.0.8 in /usr/local/lib/python3.10/dist-packages (from qpsolvers[open_source_solvers]->avalanche-lib) (2.0.14)\n",
            "Requirement already satisfied: clarabel>=0.4.1 in /usr/local/lib/python3.10/dist-packages (from qpsolvers[open_source_solvers]->avalanche-lib) (0.9.0)\n",
            "Requirement already satisfied: scs>=3.2.0 in /usr/local/lib/python3.10/dist-packages (from qpsolvers[open_source_solvers]->avalanche-lib) (3.2.7)\n",
            "Collecting quadprog>=0.1.11 (from qpsolvers[open_source_solvers]->avalanche-lib)\n",
            "  Downloading quadprog-0.1.12-cp310-cp310-manylinux_2_17_x86_64.manylinux2014_x86_64.whl.metadata (1.2 kB)\n",
            "Collecting proxsuite>=0.2.9 (from qpsolvers[open_source_solvers]->avalanche-lib)\n",
            "  Downloading proxsuite-0.6.7-0-cp310-cp310-manylinux_2_17_x86_64.whl.metadata (12 kB)\n",
            "Collecting daqp>=0.5.1 (from qpsolvers[open_source_solvers]->avalanche-lib)\n",
            "  Downloading daqp-0.5.1.post1-cp310-cp310-manylinux_2_17_x86_64.manylinux2014_x86_64.whl.metadata (1.2 kB)\n",
            "Requirement already satisfied: PySocks!=1.5.7,>=1.5.6 in /usr/local/lib/python3.10/dist-packages (from requests[socks]->gdown->avalanche-lib) (1.7.1)\n",
            "Requirement already satisfied: mpmath<1.4,>=1.1.0 in /usr/local/lib/python3.10/dist-packages (from sympy->torch->avalanche-lib) (1.3.0)\n",
            "Collecting smmap<6,>=3.0.1 (from gitdb<5,>=4.0.1->gitpython!=3.1.29,>=1.0.0->wandb->avalanche-lib)\n",
            "  Downloading smmap-5.0.1-py3-none-any.whl.metadata (4.3 kB)\n",
            "Requirement already satisfied: qdldl in /usr/local/lib/python3.10/dist-packages (from osqp>=0.6.2->qpsolvers[open_source_solvers]->avalanche-lib) (0.1.7.post4)\n",
            "Collecting cmeel (from proxsuite>=0.2.9->qpsolvers[open_source_solvers]->avalanche-lib)\n",
            "  Downloading cmeel-0.53.3-py3-none-any.whl.metadata (5.1 kB)\n",
            "Requirement already satisfied: tomli<3.0.0,>=2.0.1 in /usr/local/lib/python3.10/dist-packages (from cmeel->proxsuite>=0.2.9->qpsolvers[open_source_solvers]->avalanche-lib) (2.0.1)\n",
            "Downloading avalanche_lib-0.5.0-py3-none-any.whl (971 kB)\n",
            "\u001b[2K   \u001b[90m━━━━━━━━━━━━━━━━━━━━━━━━━━━━━━━━━━━━━━━━\u001b[0m \u001b[32m971.9/971.9 kB\u001b[0m \u001b[31m18.2 MB/s\u001b[0m eta \u001b[36m0:00:00\u001b[0m\n",
            "\u001b[?25hDownloading dill-0.3.8-py3-none-any.whl (116 kB)\n",
            "\u001b[2K   \u001b[90m━━━━━━━━━━━━━━━━━━━━━━━━━━━━━━━━━━━━━━━━\u001b[0m \u001b[32m116.3/116.3 kB\u001b[0m \u001b[31m4.2 MB/s\u001b[0m eta \u001b[36m0:00:00\u001b[0m\n",
            "\u001b[?25hDownloading pytorchcv-0.0.71-py2.py3-none-any.whl (585 kB)\n",
            "\u001b[2K   \u001b[90m━━━━━━━━━━━━━━━━━━━━━━━━━━━━━━━━━━━━━━━━\u001b[0m \u001b[32m585.2/585.2 kB\u001b[0m \u001b[31m8.7 MB/s\u001b[0m eta \u001b[36m0:00:00\u001b[0m\n",
            "\u001b[?25hDownloading torchmetrics-1.4.1-py3-none-any.whl (866 kB)\n",
            "\u001b[2K   \u001b[90m━━━━━━━━━━━━━━━━━━━━━━━━━━━━━━━━━━━━━━━━\u001b[0m \u001b[32m866.2/866.2 kB\u001b[0m \u001b[31m18.0 MB/s\u001b[0m eta \u001b[36m0:00:00\u001b[0m\n",
            "\u001b[?25hDownloading wandb-0.17.9-py3-none-manylinux_2_17_x86_64.manylinux2014_x86_64.whl (9.4 MB)\n",
            "\u001b[2K   \u001b[90m━━━━━━━━━━━━━━━━━━━━━━━━━━━━━━━━━━━━━━━━\u001b[0m \u001b[32m9.4/9.4 MB\u001b[0m \u001b[31m44.6 MB/s\u001b[0m eta \u001b[36m0:00:00\u001b[0m\n",
            "\u001b[?25hDownloading docker_pycreds-0.4.0-py2.py3-none-any.whl (9.0 kB)\n",
            "Downloading GitPython-3.1.43-py3-none-any.whl (207 kB)\n",
            "\u001b[2K   \u001b[90m━━━━━━━━━━━━━━━━━━━━━━━━━━━━━━━━━━━━━━━━\u001b[0m \u001b[32m207.3/207.3 kB\u001b[0m \u001b[31m10.9 MB/s\u001b[0m eta \u001b[36m0:00:00\u001b[0m\n",
            "\u001b[?25hDownloading lightning_utilities-0.11.7-py3-none-any.whl (26 kB)\n",
            "Downloading sentry_sdk-2.14.0-py2.py3-none-any.whl (311 kB)\n",
            "\u001b[2K   \u001b[90m━━━━━━━━━━━━━━━━━━━━━━━━━━━━━━━━━━━━━━━━\u001b[0m \u001b[32m311.4/311.4 kB\u001b[0m \u001b[31m14.1 MB/s\u001b[0m eta \u001b[36m0:00:00\u001b[0m\n",
            "\u001b[?25hDownloading qpsolvers-4.3.3-py3-none-any.whl (79 kB)\n",
            "\u001b[2K   \u001b[90m━━━━━━━━━━━━━━━━━━━━━━━━━━━━━━━━━━━━━━━━\u001b[0m \u001b[32m79.8/79.8 kB\u001b[0m \u001b[31m1.8 MB/s\u001b[0m eta \u001b[36m0:00:00\u001b[0m\n",
            "\u001b[?25hDownloading setproctitle-1.3.3-cp310-cp310-manylinux_2_5_x86_64.manylinux1_x86_64.manylinux_2_17_x86_64.manylinux2014_x86_64.whl (30 kB)\n",
            "Downloading daqp-0.5.1.post1-cp310-cp310-manylinux_2_17_x86_64.manylinux2014_x86_64.whl (526 kB)\n",
            "\u001b[2K   \u001b[90m━━━━━━━━━━━━━━━━━━━━━━━━━━━━━━━━━━━━━━━━\u001b[0m \u001b[32m526.7/526.7 kB\u001b[0m \u001b[31m18.8 MB/s\u001b[0m eta \u001b[36m0:00:00\u001b[0m\n",
            "\u001b[?25hDownloading gitdb-4.0.11-py3-none-any.whl (62 kB)\n",
            "\u001b[2K   \u001b[90m━━━━━━━━━━━━━━━━━━━━━━━━━━━━━━━━━━━━━━━━\u001b[0m \u001b[32m62.7/62.7 kB\u001b[0m \u001b[31m1.8 MB/s\u001b[0m eta \u001b[36m0:00:00\u001b[0m\n",
            "\u001b[?25hDownloading highspy-1.7.2-cp310-cp310-manylinux_2_17_x86_64.manylinux2014_x86_64.whl (2.1 MB)\n",
            "\u001b[2K   \u001b[90m━━━━━━━━━━━━━━━━━━━━━━━━━━━━━━━━━━━━━━━━\u001b[0m \u001b[32m2.1/2.1 MB\u001b[0m \u001b[31m30.5 MB/s\u001b[0m eta \u001b[36m0:00:00\u001b[0m\n",
            "\u001b[?25hDownloading piqp-0.4.2-cp310-cp310-manylinux_2_17_x86_64.manylinux2014_x86_64.whl (979 kB)\n",
            "\u001b[2K   \u001b[90m━━━━━━━━━━━━━━━━━━━━━━━━━━━━━━━━━━━━━━━━\u001b[0m \u001b[32m979.8/979.8 kB\u001b[0m \u001b[31m22.1 MB/s\u001b[0m eta \u001b[36m0:00:00\u001b[0m\n",
            "\u001b[?25hDownloading proxsuite-0.6.7-0-cp310-cp310-manylinux_2_17_x86_64.whl (2.7 MB)\n",
            "\u001b[2K   \u001b[90m━━━━━━━━━━━━━━━━━━━━━━━━━━━━━━━━━━━━━━━━\u001b[0m \u001b[32m2.7/2.7 MB\u001b[0m \u001b[31m32.0 MB/s\u001b[0m eta \u001b[36m0:00:00\u001b[0m\n",
            "\u001b[?25hDownloading qpalm-1.2.3-cp310-cp310-manylinux_2_17_x86_64.whl (1.3 MB)\n",
            "\u001b[2K   \u001b[90m━━━━━━━━━━━━━━━━━━━━━━━━━━━━━━━━━━━━━━━━\u001b[0m \u001b[32m1.3/1.3 MB\u001b[0m \u001b[31m14.9 MB/s\u001b[0m eta \u001b[36m0:00:00\u001b[0m\n",
            "\u001b[?25hDownloading quadprog-0.1.12-cp310-cp310-manylinux_2_17_x86_64.manylinux2014_x86_64.whl (508 kB)\n",
            "\u001b[2K   \u001b[90m━━━━━━━━━━━━━━━━━━━━━━━━━━━━━━━━━━━━━━━━\u001b[0m \u001b[32m508.2/508.2 kB\u001b[0m \u001b[31m13.6 MB/s\u001b[0m eta \u001b[36m0:00:00\u001b[0m\n",
            "\u001b[?25hDownloading smmap-5.0.1-py3-none-any.whl (24 kB)\n",
            "Downloading cmeel-0.53.3-py3-none-any.whl (20 kB)\n",
            "Building wheels for collected packages: gputil\n",
            "  Building wheel for gputil (setup.py) ... \u001b[?25l\u001b[?25hdone\n",
            "  Created wheel for gputil: filename=GPUtil-1.4.0-py3-none-any.whl size=7392 sha256=9089c701df114700f38945f260cf1f9bee446c6d16efa5b8bec31125044d8179\n",
            "  Stored in directory: /root/.cache/pip/wheels/a9/8a/bd/81082387151853ab8b6b3ef33426e98f5cbfebc3c397a9d4d0\n",
            "Successfully built gputil\n",
            "Installing collected packages: gputil, daqp, smmap, setproctitle, sentry-sdk, quadprog, piqp, lightning-utilities, highspy, docker-pycreds, dill, cmeel, qpsolvers, qpalm, proxsuite, gitdb, torchmetrics, gitpython, wandb, pytorchcv, avalanche-lib\n",
            "Successfully installed avalanche-lib-0.5.0 cmeel-0.53.3 daqp-0.5.1.post1 dill-0.3.8 docker-pycreds-0.4.0 gitdb-4.0.11 gitpython-3.1.43 gputil-1.4.0 highspy-1.7.2 lightning-utilities-0.11.7 piqp-0.4.2 proxsuite-0.6.7 pytorchcv-0.0.71 qpalm-1.2.3 qpsolvers-4.3.3 quadprog-0.1.12 sentry-sdk-2.14.0 setproctitle-1.3.3 smmap-5.0.1 torchmetrics-1.4.1 wandb-0.17.9\n"
          ]
        }
      ]
    },
    {
      "cell_type": "code",
      "source": [
        "pip install pytorchcv==0.0.67"
      ],
      "metadata": {
        "colab": {
          "base_uri": "https://localhost:8080/"
        },
        "id": "h_vqoBq5dIRI",
        "outputId": "46acb4b5-097e-4349-f500-f17468ed6676"
      },
      "execution_count": null,
      "outputs": [
        {
          "output_type": "stream",
          "name": "stdout",
          "text": [
            "Collecting pytorchcv==0.0.67\n",
            "  Downloading pytorchcv-0.0.67-py2.py3-none-any.whl.metadata (133 kB)\n",
            "\u001b[2K     \u001b[90m━━━━━━━━━━━━━━━━━━━━━━━━━━━━━━━━━━━━━━━━\u001b[0m \u001b[32m133.7/133.7 kB\u001b[0m \u001b[31m1.9 MB/s\u001b[0m eta \u001b[36m0:00:00\u001b[0m\n",
            "\u001b[?25hRequirement already satisfied: numpy in /usr/local/lib/python3.10/dist-packages (from pytorchcv==0.0.67) (1.26.4)\n",
            "Requirement already satisfied: requests in /usr/local/lib/python3.10/dist-packages (from pytorchcv==0.0.67) (2.32.3)\n",
            "Requirement already satisfied: charset-normalizer<4,>=2 in /usr/local/lib/python3.10/dist-packages (from requests->pytorchcv==0.0.67) (3.3.2)\n",
            "Requirement already satisfied: idna<4,>=2.5 in /usr/local/lib/python3.10/dist-packages (from requests->pytorchcv==0.0.67) (3.8)\n",
            "Requirement already satisfied: urllib3<3,>=1.21.1 in /usr/local/lib/python3.10/dist-packages (from requests->pytorchcv==0.0.67) (2.0.7)\n",
            "Requirement already satisfied: certifi>=2017.4.17 in /usr/local/lib/python3.10/dist-packages (from requests->pytorchcv==0.0.67) (2024.8.30)\n",
            "Downloading pytorchcv-0.0.67-py2.py3-none-any.whl (532 kB)\n",
            "\u001b[2K   \u001b[90m━━━━━━━━━━━━━━━━━━━━━━━━━━━━━━━━━━━━━━━━\u001b[0m \u001b[32m532.4/532.4 kB\u001b[0m \u001b[31m13.8 MB/s\u001b[0m eta \u001b[36m0:00:00\u001b[0m\n",
            "\u001b[?25hInstalling collected packages: pytorchcv\n",
            "  Attempting uninstall: pytorchcv\n",
            "    Found existing installation: pytorchcv 0.0.71\n",
            "    Uninstalling pytorchcv-0.0.71:\n",
            "      Successfully uninstalled pytorchcv-0.0.71\n",
            "Successfully installed pytorchcv-0.0.67\n"
          ]
        }
      ]
    },
    {
      "cell_type": "code",
      "source": [
        "!pip install kaggle"
      ],
      "metadata": {
        "id": "YmH0Kw9H7pOW"
      },
      "execution_count": null,
      "outputs": []
    },
    {
      "cell_type": "code",
      "source": [
        "#from avalanche.benchmarks.datasets import MNIST\n",
        "import numpy as np\n",
        "import pandas as pd\n",
        "import torch\n",
        "from torch import nn\n",
        "import torch.nn.functional as F\n",
        "from torch.nn import Module, Linear\n",
        "from torch.optim import SGD, Adam\n",
        "from torch.utils.data import Dataset, DataLoader, TensorDataset\n",
        "import torchvision\n",
        "from torchvision.datasets import usps\n",
        "from torchvision.models import resnet50, ResNet50_Weights, mobilenet_v2, MobileNet_V2_Weights\n",
        "from torchvision import transforms, models\n",
        "\n",
        "import pytorchcv\n",
        "import matplotlib.pyplot as plt\n",
        "from avalanche.benchmarks.classic import SplitMNIST, PermutedMNIST, SplitCIFAR10, SplitCUB200, SplitTinyImageNet, CORe50\n",
        "from avalanche.benchmarks.datasets import OpenLORIS, ImageNet, Stream51, CIFAR10\n",
        "from avalanche.benchmarks import nc_benchmark, ni_benchmark\n",
        "from torchvision import transforms\n",
        "from torchvision.transforms import ToTensor, Compose, Resize, Normalize\n",
        "from torch.utils.data import Subset\n",
        "from avalanche.benchmarks import DatasetScenario\n",
        "from avalanche.models import SimpleMLP, IcarlNet\n",
        "from avalanche.training.plugins import EWCPlugin\n",
        "from avalanche.training.plugins import ReplayPlugin\n",
        "from avalanche.training import Replay\n",
        "from avalanche.training import Naive, EWC, ICaRL\n",
        "from avalanche.training.plugins import EvaluationPlugin\n",
        "from avalanche.logging import InteractiveLogger\n",
        "from avalanche.evaluation.metrics import accuracy_metrics, Accuracy, forgetting_metrics, bwt_metrics, forward_transfer_metrics, confusion_matrix_metrics, loss_metrics\n",
        "from avalanche.evaluation import PluginMetric\n",
        "from avalanche.evaluation.metrics import Accuracy\n",
        "from avalanche.evaluation.metric_results import MetricValue\n",
        "from avalanche.evaluation.metric_utils import get_metric_name\n",
        "\n",
        "\n",
        "#AMAZON\n",
        "import re\n",
        "import string\n",
        "import collections\n",
        "\n",
        "import nltk\n",
        "nltk.download('stopwords')\n",
        "nltk.download('punkt')\n",
        "nltk.download('wordnet')\n",
        "nltk.download('omw-1.4')\n",
        "from nltk.corpus import stopwords\n",
        "from nltk.tokenize import word_tokenize\n",
        "from nltk.stem import WordNetLemmatizer, SnowballStemmer\n",
        "\n",
        "import tensorflow as tf\n",
        "from tensorflow.keras.preprocessing.text import Tokenizer\n",
        "from tensorflow.keras.preprocessing.sequence import pad_sequences"
      ],
      "metadata": {
        "id": "B9oHqHWEWS2A",
        "colab": {
          "base_uri": "https://localhost:8080/"
        },
        "outputId": "4c578e61-e294-4cd5-e070-005f2e200a18"
      },
      "execution_count": null,
      "outputs": [
        {
          "output_type": "stream",
          "name": "stderr",
          "text": [
            "[nltk_data] Downloading package stopwords to /root/nltk_data...\n",
            "[nltk_data]   Unzipping corpora/stopwords.zip.\n",
            "[nltk_data] Downloading package punkt to /root/nltk_data...\n",
            "[nltk_data]   Unzipping tokenizers/punkt.zip.\n",
            "[nltk_data] Downloading package wordnet to /root/nltk_data...\n",
            "[nltk_data] Downloading package omw-1.4 to /root/nltk_data...\n"
          ]
        }
      ]
    },
    {
      "cell_type": "code",
      "source": [
        "benchmark = SplitMNIST(n_experiences=5, seed=1)\n",
        "\n",
        "train_stream = benchmark.train_stream\n",
        "test_stream = benchmark.test_stream\n",
        "\n",
        "model = SimpleMLP()\n",
        "optimizer = SGD(model.parameters(), lr=0.001, momentum=0.9)\n",
        "\n",
        "EntropiaCruzada = torch.nn.CrossEntropyLoss()\n",
        "criterion = EntropiaCruzada\n",
        "\n",
        "evaluation_plugin = EvaluationPlugin(\n",
        "    accuracy_metrics(experience=True, stream=True),\n",
        "    forgetting_metrics(experience=True, stream=True),\n",
        "    loggers=[InteractiveLogger()]\n",
        ")\n",
        "\n",
        "cl_strategy = EWC(\n",
        "    model,\n",
        "    optimizer,\n",
        "    criterion,\n",
        "    ewc_lambda=0.4,\n",
        "    train_mb_size=128,\n",
        "    train_epochs=4,\n",
        "    eval_mb_size=128,\n",
        "    evaluator=evaluation_plugin\n",
        ")\n",
        "\n",
        "for experience in train_stream:\n",
        "    print(\"Current experience: {}\".format(experience.current_experience))\n",
        "    print(\"Current Classes: \", experience.classes_in_this_experience)\n",
        "    cl_strategy.train(experience)\n",
        "    print(\"Evaluating on the test set:\")\n",
        "    cl_strategy.eval(test_stream)"
      ],
      "metadata": {
        "id": "26Wok0Uz6PJw"
      },
      "execution_count": null,
      "outputs": []
    },
    {
      "cell_type": "code",
      "source": [
        "benchmark = PermutedMNIST(n_experiences=5, return_task_id=False)\n",
        "train_stream = benchmark.train_stream\n",
        "test_stream = benchmark.test_stream\n",
        "\n",
        "model = SimpleMLP()\n",
        "optimizer = SGD(model.parameters(), lr=0.001, momentum=0.9)\n",
        "criterion = torch.nn.CrossEntropyLoss()\n",
        "\n",
        "evaluation_plugin = EvaluationPlugin(\n",
        "    accuracy_metrics(experience=True, stream=True),\n",
        "    bwt_metrics(experience=True, stream=True),\n",
        "    confusion_matrix_metrics(num_classes=benchmark.n_classes, save_image=True, stream=True),\n",
        "    loggers=[InteractiveLogger()]\n",
        ")\n",
        "\n",
        "cl_strategy = EWC(\n",
        "    model,\n",
        "    optimizer,\n",
        "    criterion,\n",
        "    ewc_lambda=0.4,\n",
        "    train_mb_size=128,\n",
        "    train_epochs=4,\n",
        "    eval_mb_size=128,\n",
        "    evaluator=evaluation_plugin\n",
        ")\n",
        "\n",
        "train_accuracies = []\n",
        "test_accuracies = []\n",
        "bwt_values = []\n",
        "\n",
        "for experience in train_stream:\n",
        "    print(f\"Current experience: {experience.current_experience}\")\n",
        "    cl_strategy.train(experience)\n",
        "\n",
        "    eval_results = cl_strategy.eval(test_stream)\n",
        "\n",
        "    print(\"Available keys in eval_results:\")\n",
        "    for key in eval_results.keys():\n",
        "        print(f\"{key}: {eval_results[key]}\")\n",
        "\n",
        "    for exp_id in range(len(train_stream)):\n",
        "        try:\n",
        "            acc = eval_results.get(f'Top1_Acc_Exp/eval_phase/test_stream/Task000/Exp00{exp_id}', None)\n",
        "            if acc is not None:\n",
        "                test_accuracies.append(acc)\n",
        "        except KeyError:\n",
        "            print(f\"KeyError: 'Top1_Acc_Exp/eval_phase/test_stream/Task000/Exp00{exp_id}' not found\")\n",
        "            test_accuracies.append(None)\n",
        "\n",
        "    try:\n",
        "        overall_test_acc = eval_results['Top1_Acc_Stream/eval_phase/test_stream/Task000']\n",
        "        test_accuracies.append(overall_test_acc)\n",
        "    except KeyError:\n",
        "        print(\"KeyError: 'Top1_Acc_Stream/eval_phase/test_stream/Task000' not found\")\n",
        "\n",
        "    try:\n",
        "        bwt = eval_results['StreamBWT/eval_phase/test_stream']\n",
        "        bwt_values.append(bwt)\n",
        "    except KeyError:\n",
        "        print(\"KeyError: 'StreamBWT/eval_phase/test_stream' not found\")\n",
        "        bwt_values.append(None)\n",
        "\n",
        "#Dibujar los resultados si las métricas están disponibles\n",
        "if test_accuracies:\n",
        "    plt.figure(figsize=(10, 5))\n",
        "    plt.plot(test_accuracies, label=\"Test Accuracy\")\n",
        "    plt.xlabel('Experience')\n",
        "    plt.ylabel('Accuracy')\n",
        "    plt.title('Test Accuracy Over Experiences')\n",
        "    plt.legend()\n",
        "    plt.show()\n",
        "\n",
        "if bwt_values:\n",
        "    plt.figure(figsize=(10, 5))\n",
        "    plt.plot(bwt_values, label=\"BWT\", color='red')\n",
        "    plt.xlabel('Experience')\n",
        "    plt.ylabel('BWT')\n",
        "    plt.title('Backward Transfer Over Experiences')\n",
        "    plt.legend()\n",
        "    plt.show()"
      ],
      "metadata": {
        "id": "8iQVt3cIxant",
        "colab": {
          "base_uri": "https://localhost:8080/",
          "height": 1000
        },
        "outputId": "cbb2c0cb-1742-4571-d227-8167bd679e44"
      },
      "execution_count": null,
      "outputs": [
        {
          "output_type": "stream",
          "name": "stdout",
          "text": [
            "Downloading http://yann.lecun.com/exdb/mnist/train-images-idx3-ubyte.gz\n",
            "Failed to download (trying next):\n",
            "HTTP Error 403: Forbidden\n",
            "\n",
            "Downloading https://ossci-datasets.s3.amazonaws.com/mnist/train-images-idx3-ubyte.gz\n",
            "Downloading https://ossci-datasets.s3.amazonaws.com/mnist/train-images-idx3-ubyte.gz to /root/.avalanche/data/mnist/MNIST/raw/train-images-idx3-ubyte.gz\n"
          ]
        },
        {
          "output_type": "stream",
          "name": "stderr",
          "text": [
            "100%|██████████| 9912422/9912422 [00:00<00:00, 53365000.40it/s]\n"
          ]
        },
        {
          "output_type": "stream",
          "name": "stdout",
          "text": [
            "Extracting /root/.avalanche/data/mnist/MNIST/raw/train-images-idx3-ubyte.gz to /root/.avalanche/data/mnist/MNIST/raw\n",
            "\n",
            "Downloading http://yann.lecun.com/exdb/mnist/train-labels-idx1-ubyte.gz\n",
            "Failed to download (trying next):\n",
            "HTTP Error 403: Forbidden\n",
            "\n",
            "Downloading https://ossci-datasets.s3.amazonaws.com/mnist/train-labels-idx1-ubyte.gz\n",
            "Downloading https://ossci-datasets.s3.amazonaws.com/mnist/train-labels-idx1-ubyte.gz to /root/.avalanche/data/mnist/MNIST/raw/train-labels-idx1-ubyte.gz\n"
          ]
        },
        {
          "output_type": "stream",
          "name": "stderr",
          "text": [
            "100%|██████████| 28881/28881 [00:00<00:00, 1839961.33it/s]"
          ]
        },
        {
          "output_type": "stream",
          "name": "stdout",
          "text": [
            "Extracting /root/.avalanche/data/mnist/MNIST/raw/train-labels-idx1-ubyte.gz to /root/.avalanche/data/mnist/MNIST/raw\n",
            "\n",
            "Downloading http://yann.lecun.com/exdb/mnist/t10k-images-idx3-ubyte.gz\n"
          ]
        },
        {
          "output_type": "stream",
          "name": "stderr",
          "text": [
            "\n"
          ]
        },
        {
          "output_type": "stream",
          "name": "stdout",
          "text": [
            "Failed to download (trying next):\n",
            "HTTP Error 403: Forbidden\n",
            "\n",
            "Downloading https://ossci-datasets.s3.amazonaws.com/mnist/t10k-images-idx3-ubyte.gz\n",
            "Downloading https://ossci-datasets.s3.amazonaws.com/mnist/t10k-images-idx3-ubyte.gz to /root/.avalanche/data/mnist/MNIST/raw/t10k-images-idx3-ubyte.gz\n"
          ]
        },
        {
          "output_type": "stream",
          "name": "stderr",
          "text": [
            "100%|██████████| 1648877/1648877 [00:00<00:00, 13996833.45it/s]\n"
          ]
        },
        {
          "output_type": "stream",
          "name": "stdout",
          "text": [
            "Extracting /root/.avalanche/data/mnist/MNIST/raw/t10k-images-idx3-ubyte.gz to /root/.avalanche/data/mnist/MNIST/raw\n",
            "\n",
            "Downloading http://yann.lecun.com/exdb/mnist/t10k-labels-idx1-ubyte.gz\n",
            "Failed to download (trying next):\n",
            "HTTP Error 403: Forbidden\n",
            "\n",
            "Downloading https://ossci-datasets.s3.amazonaws.com/mnist/t10k-labels-idx1-ubyte.gz\n",
            "Downloading https://ossci-datasets.s3.amazonaws.com/mnist/t10k-labels-idx1-ubyte.gz to /root/.avalanche/data/mnist/MNIST/raw/t10k-labels-idx1-ubyte.gz\n"
          ]
        },
        {
          "output_type": "stream",
          "name": "stderr",
          "text": [
            "100%|██████████| 4542/4542 [00:00<00:00, 8329920.76it/s]"
          ]
        },
        {
          "output_type": "stream",
          "name": "stdout",
          "text": [
            "Extracting /root/.avalanche/data/mnist/MNIST/raw/t10k-labels-idx1-ubyte.gz to /root/.avalanche/data/mnist/MNIST/raw\n",
            "\n"
          ]
        },
        {
          "output_type": "stream",
          "name": "stderr",
          "text": [
            "\n",
            "/usr/local/lib/python3.10/dist-packages/avalanche/training/templates/base.py:468: PositionalArgumentsDeprecatedWarning: Avalanche is transitioning to strategy constructors that accept named (keyword) arguments only. This is done to ensure that there is no confusion regarding the meaning of each argument (strategies can have many arguments). Your are passing 3 positional arguments to the EWC.__init__ method. Consider passing them as names arguments. The ability to pass positional arguments will be removed in the future.\n",
            "  warnings.warn(error_str, category=PositionalArgumentsDeprecatedWarning)\n"
          ]
        },
        {
          "output_type": "stream",
          "name": "stdout",
          "text": [
            "Current experience: 0\n",
            "-- >> Start of training phase << --\n",
            "100%|██████████| 469/469 [00:24<00:00, 19.19it/s]\n",
            "Epoch 0 ended.\n",
            "100%|██████████| 469/469 [00:22<00:00, 20.65it/s]\n",
            "Epoch 1 ended.\n",
            "100%|██████████| 469/469 [00:21<00:00, 22.01it/s]\n",
            "Epoch 2 ended.\n",
            "100%|██████████| 469/469 [00:22<00:00, 21.21it/s]\n",
            "Epoch 3 ended.\n",
            "-- >> End of training phase << --\n",
            "-- >> Start of eval phase << --\n",
            "-- Starting eval on experience 0 (Task 0) from test stream --\n",
            "100%|██████████| 79/79 [00:03<00:00, 23.18it/s]\n",
            "> Eval on experience 0 (Task 0) from test stream ended.\n",
            "\tTop1_Acc_Exp/eval_phase/test_stream/Task000/Exp000 = 0.9313\n",
            "-- Starting eval on experience 1 (Task 0) from test stream --\n",
            "100%|██████████| 79/79 [00:04<00:00, 18.90it/s]\n",
            "> Eval on experience 1 (Task 0) from test stream ended.\n",
            "\tTop1_Acc_Exp/eval_phase/test_stream/Task000/Exp001 = 0.1588\n",
            "-- Starting eval on experience 2 (Task 0) from test stream --\n",
            "100%|██████████| 79/79 [00:03<00:00, 25.25it/s]\n",
            "> Eval on experience 2 (Task 0) from test stream ended.\n",
            "\tTop1_Acc_Exp/eval_phase/test_stream/Task000/Exp002 = 0.1029\n",
            "-- Starting eval on experience 3 (Task 0) from test stream --\n",
            "100%|██████████| 79/79 [00:03<00:00, 25.24it/s]\n",
            "> Eval on experience 3 (Task 0) from test stream ended.\n",
            "\tTop1_Acc_Exp/eval_phase/test_stream/Task000/Exp003 = 0.0738\n",
            "-- Starting eval on experience 4 (Task 0) from test stream --\n",
            "100%|██████████| 79/79 [00:03<00:00, 23.82it/s]\n",
            "> Eval on experience 4 (Task 0) from test stream ended.\n",
            "\tTop1_Acc_Exp/eval_phase/test_stream/Task000/Exp004 = 0.0828\n",
            "-- >> End of eval phase << --\n",
            "\tConfusionMatrix_Stream/eval_phase/test_stream = <avalanche.evaluation.metric_results.AlternativeValues object at 0x7d4634d4b0a0>\n",
            "\tStreamBWT/eval_phase/test_stream = 0.0000\n",
            "\tTop1_Acc_Stream/eval_phase/test_stream/Task000 = 0.2699\n",
            "Available keys in eval_results:\n",
            "Top1_Acc_Exp/eval_phase/test_stream/Task000/Exp000: 0.9313\n",
            "Top1_Acc_Exp/eval_phase/test_stream/Task000/Exp001: 0.1588\n",
            "Top1_Acc_Exp/eval_phase/test_stream/Task000/Exp002: 0.1029\n",
            "Top1_Acc_Exp/eval_phase/test_stream/Task000/Exp003: 0.0738\n",
            "Top1_Acc_Exp/eval_phase/test_stream/Task000/Exp004: 0.0828\n",
            "Top1_Acc_Stream/eval_phase/test_stream/Task000: 0.26992\n",
            "StreamBWT/eval_phase/test_stream: 0.0\n",
            "ConfusionMatrix_Stream/eval_phase/test_stream: <avalanche.evaluation.metric_results.AlternativeValues object at 0x7d4634d4b0a0>\n",
            "Current experience: 1\n",
            "-- >> Start of training phase << --\n",
            "100%|██████████| 469/469 [00:23<00:00, 19.92it/s]\n",
            "Epoch 0 ended.\n",
            "100%|██████████| 469/469 [00:23<00:00, 19.64it/s]\n",
            "Epoch 1 ended.\n",
            "100%|██████████| 469/469 [00:22<00:00, 20.49it/s]\n",
            "Epoch 2 ended.\n",
            "100%|██████████| 469/469 [00:25<00:00, 18.51it/s]\n",
            "Epoch 3 ended.\n",
            "-- >> End of training phase << --\n",
            "-- >> Start of eval phase << --\n",
            "-- Starting eval on experience 0 (Task 0) from test stream --\n",
            "100%|██████████| 79/79 [00:03<00:00, 23.05it/s]\n",
            "> Eval on experience 0 (Task 0) from test stream ended.\n",
            "\tExperienceBWT/eval_phase/test_stream/Task000/Exp000 = -0.0094\n",
            "\tTop1_Acc_Exp/eval_phase/test_stream/Task000/Exp000 = 0.9219\n",
            "-- Starting eval on experience 1 (Task 0) from test stream --\n",
            "100%|██████████| 79/79 [00:04<00:00, 19.36it/s]\n",
            "> Eval on experience 1 (Task 0) from test stream ended.\n",
            "\tTop1_Acc_Exp/eval_phase/test_stream/Task000/Exp001 = 0.9364\n",
            "-- Starting eval on experience 2 (Task 0) from test stream --\n",
            "100%|██████████| 79/79 [00:03<00:00, 24.75it/s]\n",
            "> Eval on experience 2 (Task 0) from test stream ended.\n",
            "\tTop1_Acc_Exp/eval_phase/test_stream/Task000/Exp002 = 0.1015\n",
            "-- Starting eval on experience 3 (Task 0) from test stream --\n",
            "100%|██████████| 79/79 [00:03<00:00, 25.16it/s]\n",
            "> Eval on experience 3 (Task 0) from test stream ended.\n",
            "\tTop1_Acc_Exp/eval_phase/test_stream/Task000/Exp003 = 0.0700\n",
            "-- Starting eval on experience 4 (Task 0) from test stream --\n",
            "100%|██████████| 79/79 [00:03<00:00, 23.49it/s]\n",
            "> Eval on experience 4 (Task 0) from test stream ended.\n",
            "\tTop1_Acc_Exp/eval_phase/test_stream/Task000/Exp004 = 0.0974\n",
            "-- >> End of eval phase << --\n",
            "\tConfusionMatrix_Stream/eval_phase/test_stream = <avalanche.evaluation.metric_results.AlternativeValues object at 0x7d46335483d0>\n",
            "\tStreamBWT/eval_phase/test_stream = -0.0094\n",
            "\tTop1_Acc_Stream/eval_phase/test_stream/Task000 = 0.4254\n",
            "Available keys in eval_results:\n",
            "Top1_Acc_Exp/eval_phase/test_stream/Task000/Exp000: 0.9219\n",
            "Top1_Acc_Exp/eval_phase/test_stream/Task000/Exp001: 0.9364\n",
            "Top1_Acc_Exp/eval_phase/test_stream/Task000/Exp002: 0.1015\n",
            "Top1_Acc_Exp/eval_phase/test_stream/Task000/Exp003: 0.07\n",
            "Top1_Acc_Exp/eval_phase/test_stream/Task000/Exp004: 0.0974\n",
            "Top1_Acc_Stream/eval_phase/test_stream/Task000: 0.42544\n",
            "StreamBWT/eval_phase/test_stream: -0.009399999999999964\n",
            "ConfusionMatrix_Stream/eval_phase/test_stream: <avalanche.evaluation.metric_results.AlternativeValues object at 0x7d46335483d0>\n",
            "ExperienceBWT/eval_phase/test_stream/Task000/Exp000: -0.009399999999999964\n",
            "Current experience: 2\n",
            "-- >> Start of training phase << --\n",
            "100%|██████████| 469/469 [00:26<00:00, 17.88it/s]\n",
            "Epoch 0 ended.\n",
            "100%|██████████| 469/469 [00:26<00:00, 17.58it/s]\n",
            "Epoch 1 ended.\n",
            "100%|██████████| 469/469 [00:26<00:00, 17.70it/s]\n",
            "Epoch 2 ended.\n",
            "100%|██████████| 469/469 [00:28<00:00, 16.35it/s]\n",
            "Epoch 3 ended.\n",
            "-- >> End of training phase << --\n",
            "-- >> Start of eval phase << --\n",
            "-- Starting eval on experience 0 (Task 0) from test stream --\n",
            "100%|██████████| 79/79 [00:03<00:00, 24.64it/s]\n",
            "> Eval on experience 0 (Task 0) from test stream ended.\n",
            "\tExperienceBWT/eval_phase/test_stream/Task000/Exp000 = -0.0282\n",
            "\tTop1_Acc_Exp/eval_phase/test_stream/Task000/Exp000 = 0.9031\n",
            "-- Starting eval on experience 1 (Task 0) from test stream --\n",
            "100%|██████████| 79/79 [00:03<00:00, 20.28it/s]\n",
            "> Eval on experience 1 (Task 0) from test stream ended.\n",
            "\tExperienceBWT/eval_phase/test_stream/Task000/Exp001 = -0.0093\n",
            "\tTop1_Acc_Exp/eval_phase/test_stream/Task000/Exp001 = 0.9271\n",
            "-- Starting eval on experience 2 (Task 0) from test stream --\n",
            "100%|██████████| 79/79 [00:05<00:00, 14.81it/s]\n",
            "> Eval on experience 2 (Task 0) from test stream ended.\n",
            "\tTop1_Acc_Exp/eval_phase/test_stream/Task000/Exp002 = 0.9396\n",
            "-- Starting eval on experience 3 (Task 0) from test stream --\n",
            "100%|██████████| 79/79 [00:03<00:00, 24.07it/s]\n",
            "> Eval on experience 3 (Task 0) from test stream ended.\n",
            "\tTop1_Acc_Exp/eval_phase/test_stream/Task000/Exp003 = 0.1206\n",
            "-- Starting eval on experience 4 (Task 0) from test stream --\n",
            "100%|██████████| 79/79 [00:03<00:00, 24.33it/s]\n",
            "> Eval on experience 4 (Task 0) from test stream ended.\n",
            "\tTop1_Acc_Exp/eval_phase/test_stream/Task000/Exp004 = 0.0806\n",
            "-- >> End of eval phase << --\n",
            "\tConfusionMatrix_Stream/eval_phase/test_stream = <avalanche.evaluation.metric_results.AlternativeValues object at 0x7d4633372650>\n",
            "\tStreamBWT/eval_phase/test_stream = -0.0187\n",
            "\tTop1_Acc_Stream/eval_phase/test_stream/Task000 = 0.5942\n",
            "Available keys in eval_results:\n",
            "Top1_Acc_Exp/eval_phase/test_stream/Task000/Exp000: 0.9031\n",
            "Top1_Acc_Exp/eval_phase/test_stream/Task000/Exp001: 0.9271\n",
            "Top1_Acc_Exp/eval_phase/test_stream/Task000/Exp002: 0.9396\n",
            "Top1_Acc_Exp/eval_phase/test_stream/Task000/Exp003: 0.1206\n",
            "Top1_Acc_Exp/eval_phase/test_stream/Task000/Exp004: 0.0806\n",
            "Top1_Acc_Stream/eval_phase/test_stream/Task000: 0.5942\n",
            "StreamBWT/eval_phase/test_stream: -0.01874999999999999\n",
            "ConfusionMatrix_Stream/eval_phase/test_stream: <avalanche.evaluation.metric_results.AlternativeValues object at 0x7d4633372650>\n",
            "ExperienceBWT/eval_phase/test_stream/Task000/Exp000: -0.028200000000000003\n",
            "ExperienceBWT/eval_phase/test_stream/Task000/Exp001: -0.009299999999999975\n",
            "Current experience: 3\n",
            "-- >> Start of training phase << --\n",
            "100%|██████████| 469/469 [00:28<00:00, 16.36it/s]\n",
            "Epoch 0 ended.\n",
            "100%|██████████| 469/469 [00:28<00:00, 16.58it/s]\n",
            "Epoch 1 ended.\n",
            "100%|██████████| 469/469 [00:28<00:00, 16.43it/s]\n",
            "Epoch 2 ended.\n",
            "100%|██████████| 469/469 [00:28<00:00, 16.66it/s]\n",
            "Epoch 3 ended.\n",
            "-- >> End of training phase << --\n",
            "-- >> Start of eval phase << --\n",
            "-- Starting eval on experience 0 (Task 0) from test stream --\n",
            "100%|██████████| 79/79 [00:03<00:00, 24.45it/s]\n",
            "> Eval on experience 0 (Task 0) from test stream ended.\n",
            "\tExperienceBWT/eval_phase/test_stream/Task000/Exp000 = -0.0334\n",
            "\tTop1_Acc_Exp/eval_phase/test_stream/Task000/Exp000 = 0.8979\n",
            "-- Starting eval on experience 1 (Task 0) from test stream --\n",
            "100%|██████████| 79/79 [00:04<00:00, 17.61it/s]\n",
            "> Eval on experience 1 (Task 0) from test stream ended.\n",
            "\tExperienceBWT/eval_phase/test_stream/Task000/Exp001 = -0.0151\n",
            "\tTop1_Acc_Exp/eval_phase/test_stream/Task000/Exp001 = 0.9213\n",
            "-- Starting eval on experience 2 (Task 0) from test stream --\n",
            "100%|██████████| 79/79 [00:03<00:00, 24.74it/s]\n",
            "> Eval on experience 2 (Task 0) from test stream ended.\n",
            "\tExperienceBWT/eval_phase/test_stream/Task000/Exp002 = -0.0127\n",
            "\tTop1_Acc_Exp/eval_phase/test_stream/Task000/Exp002 = 0.9269\n",
            "-- Starting eval on experience 3 (Task 0) from test stream --\n",
            "100%|██████████| 79/79 [00:03<00:00, 24.74it/s]\n",
            "> Eval on experience 3 (Task 0) from test stream ended.\n",
            "\tTop1_Acc_Exp/eval_phase/test_stream/Task000/Exp003 = 0.9425\n",
            "-- Starting eval on experience 4 (Task 0) from test stream --\n",
            "100%|██████████| 79/79 [00:03<00:00, 24.39it/s]\n",
            "> Eval on experience 4 (Task 0) from test stream ended.\n",
            "\tTop1_Acc_Exp/eval_phase/test_stream/Task000/Exp004 = 0.0848\n",
            "-- >> End of eval phase << --\n",
            "\tConfusionMatrix_Stream/eval_phase/test_stream = <avalanche.evaluation.metric_results.AlternativeValues object at 0x7d463332a3e0>\n",
            "\tStreamBWT/eval_phase/test_stream = -0.0204\n",
            "\tTop1_Acc_Stream/eval_phase/test_stream/Task000 = 0.7547\n",
            "Available keys in eval_results:\n",
            "Top1_Acc_Exp/eval_phase/test_stream/Task000/Exp000: 0.8979\n",
            "Top1_Acc_Exp/eval_phase/test_stream/Task000/Exp001: 0.9213\n",
            "Top1_Acc_Exp/eval_phase/test_stream/Task000/Exp002: 0.9269\n",
            "Top1_Acc_Exp/eval_phase/test_stream/Task000/Exp003: 0.9425\n",
            "Top1_Acc_Exp/eval_phase/test_stream/Task000/Exp004: 0.0848\n",
            "Top1_Acc_Stream/eval_phase/test_stream/Task000: 0.75468\n",
            "StreamBWT/eval_phase/test_stream: -0.020400000000000012\n",
            "ConfusionMatrix_Stream/eval_phase/test_stream: <avalanche.evaluation.metric_results.AlternativeValues object at 0x7d463332a3e0>\n",
            "ExperienceBWT/eval_phase/test_stream/Task000/Exp000: -0.033399999999999985\n",
            "ExperienceBWT/eval_phase/test_stream/Task000/Exp001: -0.015100000000000002\n",
            "ExperienceBWT/eval_phase/test_stream/Task000/Exp002: -0.012700000000000045\n",
            "Current experience: 4\n",
            "-- >> Start of training phase << --\n",
            "100%|██████████| 469/469 [00:30<00:00, 15.56it/s]\n",
            "Epoch 0 ended.\n",
            "100%|██████████| 469/469 [00:28<00:00, 16.45it/s]\n",
            "Epoch 1 ended.\n",
            "100%|██████████| 469/469 [00:28<00:00, 16.39it/s]\n",
            "Epoch 2 ended.\n",
            "100%|██████████| 469/469 [00:28<00:00, 16.41it/s]\n",
            "Epoch 3 ended.\n",
            "-- >> End of training phase << --\n",
            "-- >> Start of eval phase << --\n",
            "-- Starting eval on experience 0 (Task 0) from test stream --\n",
            "100%|██████████| 79/79 [00:03<00:00, 22.75it/s]\n",
            "> Eval on experience 0 (Task 0) from test stream ended.\n",
            "\tExperienceBWT/eval_phase/test_stream/Task000/Exp000 = -0.0707\n",
            "\tTop1_Acc_Exp/eval_phase/test_stream/Task000/Exp000 = 0.8606\n",
            "-- Starting eval on experience 1 (Task 0) from test stream --\n",
            "100%|██████████| 79/79 [00:03<00:00, 24.63it/s]\n",
            "> Eval on experience 1 (Task 0) from test stream ended.\n",
            "\tExperienceBWT/eval_phase/test_stream/Task000/Exp001 = -0.0326\n",
            "\tTop1_Acc_Exp/eval_phase/test_stream/Task000/Exp001 = 0.9038\n",
            "-- Starting eval on experience 2 (Task 0) from test stream --\n",
            "100%|██████████| 79/79 [00:03<00:00, 23.98it/s]\n",
            "> Eval on experience 2 (Task 0) from test stream ended.\n",
            "\tExperienceBWT/eval_phase/test_stream/Task000/Exp002 = -0.0254\n",
            "\tTop1_Acc_Exp/eval_phase/test_stream/Task000/Exp002 = 0.9142\n",
            "-- Starting eval on experience 3 (Task 0) from test stream --\n",
            "100%|██████████| 79/79 [00:04<00:00, 17.91it/s]\n",
            "> Eval on experience 3 (Task 0) from test stream ended.\n",
            "\tExperienceBWT/eval_phase/test_stream/Task000/Exp003 = -0.0106\n",
            "\tTop1_Acc_Exp/eval_phase/test_stream/Task000/Exp003 = 0.9319\n",
            "-- Starting eval on experience 4 (Task 0) from test stream --\n",
            "100%|██████████| 79/79 [00:03<00:00, 23.15it/s]\n",
            "> Eval on experience 4 (Task 0) from test stream ended.\n",
            "\tTop1_Acc_Exp/eval_phase/test_stream/Task000/Exp004 = 0.9452\n",
            "-- >> End of eval phase << --\n",
            "\tConfusionMatrix_Stream/eval_phase/test_stream = <avalanche.evaluation.metric_results.AlternativeValues object at 0x7d46330e0bb0>\n",
            "\tStreamBWT/eval_phase/test_stream = -0.0348\n",
            "\tTop1_Acc_Stream/eval_phase/test_stream/Task000 = 0.9111\n",
            "Available keys in eval_results:\n",
            "Top1_Acc_Exp/eval_phase/test_stream/Task000/Exp000: 0.8606\n",
            "Top1_Acc_Exp/eval_phase/test_stream/Task000/Exp001: 0.9038\n",
            "Top1_Acc_Exp/eval_phase/test_stream/Task000/Exp002: 0.9142\n",
            "Top1_Acc_Exp/eval_phase/test_stream/Task000/Exp003: 0.9319\n",
            "Top1_Acc_Exp/eval_phase/test_stream/Task000/Exp004: 0.9452\n",
            "Top1_Acc_Stream/eval_phase/test_stream/Task000: 0.91114\n",
            "StreamBWT/eval_phase/test_stream: -0.034824999999999995\n",
            "ConfusionMatrix_Stream/eval_phase/test_stream: <avalanche.evaluation.metric_results.AlternativeValues object at 0x7d46330e0bb0>\n",
            "ExperienceBWT/eval_phase/test_stream/Task000/Exp000: -0.07069999999999999\n",
            "ExperienceBWT/eval_phase/test_stream/Task000/Exp001: -0.03259999999999996\n",
            "ExperienceBWT/eval_phase/test_stream/Task000/Exp002: -0.025399999999999978\n",
            "ExperienceBWT/eval_phase/test_stream/Task000/Exp003: -0.010600000000000054\n"
          ]
        },
        {
          "output_type": "display_data",
          "data": {
            "text/plain": [
              "<Figure size 640x480 with 2 Axes>"
            ],
            "image/png": "[encoded data removed]"
          },
          "metadata": {}
        },
        {
          "output_type": "display_data",
          "data": {
            "text/plain": [
              "<Figure size 640x480 with 2 Axes>"
            ],
            "image/png": "[encoded data removed]"
          },
          "metadata": {}
        },
        {
          "output_type": "display_data",
          "data": {
            "text/plain": [
              "<Figure size 640x480 with 2 Axes>"
            ],
            "image/png": "[encoded data removed]"
          },
          "metadata": {}
        },
        {
          "output_type": "display_data",
          "data": {
            "text/plain": [
              "<Figure size 640x480 with 2 Axes>"
            ],
            "image/png": "[encoded data removed]"
          },
          "metadata": {}
        },
        {
          "output_type": "display_data",
          "data": {
            "text/plain": [
              "<Figure size 640x480 with 2 Axes>"
            ],
            "image/png": "[encoded data removed]"
          },
          "metadata": {}
        },
        {
          "output_type": "display_data",
          "data": {
            "text/plain": [
              "<Figure size 1000x500 with 1 Axes>"
            ],
            "image/png": "[encoded data removed]"
          },
          "metadata": {}
        },
        {
          "output_type": "display_data",
          "data": {
            "text/plain": [
              "<Figure size 1000x500 with 1 Axes>"
            ],
            "image/png": "[encoded data removed]"
          },
          "metadata": {}
        }
      ]
    },
    {
      "cell_type": "code",
      "source": [
        "\"\"\"transform = transforms.Compose([\n",
        "    transforms.ToTensor(),\n",
        "    transforms.Normalize((0.5, 0.5, 0.5), (0.5, 0.5, 0.5))\n",
        "])\n",
        "\n",
        "train_dataset = torchvision.datasets.CIFAR10(root='./data', train=True, download=True, transform=transform)\n",
        "test_dataset = torchvision.datasets.CIFAR10(root='./data', train=False, download=True, transform=transform)\n",
        "\n",
        "n_experiences = 5\n",
        "\n",
        "#Crear subconjuntos para cada experiencia\n",
        "def create_experiences(dataset, n_experiences):\n",
        "    indices = torch.randperm(len(dataset)).tolist()\n",
        "    split_indices = [indices[i::n_experiences] for i in range(n_experiences)]\n",
        "    return [Subset(dataset, indices) for indices in split_indices]\n",
        "\n",
        "train_experiences = create_experiences(train_dataset, n_experiences)\n",
        "test_experiences = create_experiences(test_dataset, n_experiences)\"\"\"\n",
        "\n",
        "#CNN\n",
        "\"\"\"class Net(nn.Module):\n",
        "    def __init__(self):\n",
        "        super().__init__()\n",
        "        self.conv1 = nn.Conv2d(3, 6, 5)\n",
        "        self.pool = nn.MaxPool2d(2, 2)\n",
        "        self.conv2 = nn.Conv2d(6, 16, 5)\n",
        "        self.fc1 = nn.Linear(16 * 5 * 5, 120)\n",
        "        self.fc2 = nn.Linear(120, 84)\n",
        "        self.fc3 = nn.Linear(84, 10)\n",
        "\n",
        "    def forward(self, x):\n",
        "        x = self.pool(F.relu(self.conv1(x)))\n",
        "        x = self.pool(F.relu(self.conv2(x)))\n",
        "        x = torch.flatten(x, 1)\n",
        "        x = F.relu(self.fc1(x))\n",
        "        x = F.relu(self.fc2(x))\n",
        "        x = self.fc3(x)\n",
        "        return x\n",
        "\n",
        "net = Net()\"\"\"\n",
        "\n",
        "model = models.squeezenet1_1(pretrained=False)\n",
        "model.classifier[1] = nn.Conv2d(512, 10, kernel_size=(1, 1), stride=(1, 1))#10 clases para CIFAR-10\n",
        "\n",
        "model.num_classes = 10\n",
        "\n",
        "print(model)\n",
        "\n",
        "criterion = nn.CrossEntropyLoss()\n",
        "#optimizer = SGD(model.parameters(), lr=0.001, momentum=0.9)\n",
        "optimizer = Adam(model.parameters(), lr=0.001)\n",
        "\n",
        "benchmark = SplitCIFAR10(n_experiences=5, seed=42)\n",
        "\n",
        "train_stream = benchmark.train_stream\n",
        "test_stream = benchmark.test_stream\n",
        "\n",
        "evaluation_plugin = EvaluationPlugin(\n",
        "    accuracy_metrics(experience=True, stream=True),\n",
        "    bwt_metrics(experience=True, stream=True),\n",
        "    confusion_matrix_metrics(num_classes=benchmark.n_classes, save_image=True, stream=True),\n",
        "    loggers=[InteractiveLogger()]\n",
        ")\n",
        "\n",
        "cl_strategy = EWC(\n",
        "    model,\n",
        "    optimizer,\n",
        "    criterion,\n",
        "    ewc_lambda=10,\n",
        "    train_mb_size=128,\n",
        "    train_epochs=4,\n",
        "    eval_mb_size=128,\n",
        "    evaluator=evaluation_plugin\n",
        ")\n",
        "\n",
        "for experience in train_stream:\n",
        "    print(f\"Current experience: {experience.current_experience}\")\n",
        "    cl_strategy.train(experience)\n",
        "    print(\"Evaluating on the test set:\")\n",
        "    cl_strategy.eval(test_stream)\n",
        "\n",
        "\n",
        "\n",
        "\"\"\"def train(model, dataloader, optimizer, criterion, epochs):\n",
        "    model.train()\n",
        "    for epoch in range(epochs):\n",
        "        for images, labels in dataloader:\n",
        "            optimizer.zero_grad()\n",
        "            outputs = model(images)\n",
        "            loss = criterion(outputs, labels)\n",
        "            loss.backward()\n",
        "            optimizer.step()\n",
        "        print(f\"Epoch {epoch + 1} ended.\")\n",
        "\n",
        "def evaluate(model, dataloaders):\n",
        "    model.eval()\n",
        "    total_correct = 0\n",
        "    total_samples = 0\n",
        "    with torch.no_grad():\n",
        "        for dataloader in dataloaders:\n",
        "            for images, labels in dataloader:\n",
        "                outputs = model(images)\n",
        "                _, predicted = torch.max(outputs.data, 1)\n",
        "                total_samples += labels.size(0)\n",
        "                total_correct += (predicted == labels).sum().item()\n",
        "    accuracy = total_correct / total_samples\n",
        "    return accuracy\n",
        "\n",
        "for experience_idx, train_data in enumerate(train_experiences):\n",
        "    print(f\"\\n--- Training on experience {experience_idx} ---\")\n",
        "    train_loader = DataLoader(train_data, batch_size=4, shuffle=True, num_workers=2)\n",
        "    train(net, train_loader, optimizer, criterion, epochs=10)\n",
        "    print(f\"--- End of training on experience {experience_idx} ---\\n\")\n",
        "\n",
        "    for test_exp_idx in range(experience_idx + 1):\n",
        "        test_loader = DataLoader(test_experiences[test_exp_idx], batch_size=4, shuffle=False, num_workers=2)\n",
        "        accuracy = evaluate(net, [test_loader])\n",
        "        print(f\"Accuracy on experience {test_exp_idx}: {accuracy:.4f}\")\"\"\""
      ],
      "metadata": {
        "id": "3lIZktRiXvtK"
      },
      "execution_count": null,
      "outputs": []
    },
    {
      "cell_type": "code",
      "source": [
        "epochs = [0, 1, 2, 3]\n",
        "experiences = [0, 1, 2, 3, 4]\n",
        "\n",
        "\n",
        "eval_accuracies = [\n",
        "    0,\n",
        "    0,\n",
        "    0,\n",
        "    0.5,\n",
        "    0\n",
        "]\n",
        "\n",
        "#Olvido\n",
        "forgetting = [\n",
        "    -0.7940,\n",
        "    -0.5000,\n",
        "    -0.4875,\n",
        "    0,\n",
        "]\n",
        "\n",
        "\n",
        "\n",
        "#Accuracy de entrenamiento y evaluación\n",
        "plt.figure(figsize=(14, 6))\n",
        "\n",
        "#Accuracy\n",
        "plt.subplot(1, 2, 1)\n",
        "plt.plot(experiences, eval_accuracies, label='Test Acc', marker='o')\n",
        "plt.xlabel('Experiencia')\n",
        "plt.ylabel('Accuracy')\n",
        "plt.title('Test Acc')\n",
        "plt.legend()\n",
        "plt.grid()\n",
        "\n",
        "#Olvido\n",
        "plt.subplot(1, 2, 2)\n",
        "plt.plot(experiences[:-1], forgetting, label='BWT', marker='o', color='red')\n",
        "plt.xlabel('Experiencia')\n",
        "plt.ylabel('BWT')\n",
        "plt.title('Olvido')\n",
        "plt.legend()\n",
        "plt.grid()\n",
        "\n",
        "plt.tight_layout()\n",
        "plt.show()"
      ],
      "metadata": {
        "id": "CL0IuUH_j1yV"
      },
      "execution_count": null,
      "outputs": []
    },
    {
      "cell_type": "code",
      "source": [
        "#NO EJECUTAR -> SE ACABA LA MEMORIA\n",
        "\n",
        "\"\"\"class MobileNetV2CIFAR10(nn.Module):\n",
        "    def __init__(self, pretrained=True):\n",
        "        super(MobileNetV2CIFAR10, self).__init__()\n",
        "        self.mobilenet = models.mobilenet_v2(pretrained=pretrained)\n",
        "\n",
        "        # Cambiar la capa final para que tenga 10 clases en lugar de 1000 (para CIFAR10)\n",
        "        num_ftrs = self.mobilenet.classifier[1].in_features\n",
        "        self.mobilenet.classifier[1] = nn.Linear(num_ftrs, 10)  # CIFAR-10 tiene 10 clases\n",
        "\n",
        "    def forward(self, x):\n",
        "        return self.mobilenet(x)\n",
        "\n",
        "# Instanciar el modelo adaptado MobileNetV2 para CIFAR10\n",
        "net = MobileNetV2CIFAR10(pretrained=True)\n",
        "\n",
        "# Preprocesamiento de las imágenes (CIFAR10 tiene imágenes de 32x32, necesitamos 224x224)\n",
        "transform = transforms.Compose([\n",
        "    transforms.Resize(224),  # Redimensionar imágenes a 224x224\n",
        "    transforms.ToTensor(),\n",
        "    transforms.Normalize((0.4914, 0.4822, 0.4465), (0.2023, 0.1994, 0.2010))  # Normalizar CIFAR-10\n",
        "])\n",
        "\n",
        "# Crear el benchmark para SplitCIFAR10\n",
        "benchmark = SplitCIFAR10(n_experiences=5, seed=42, return_task_id=False, train_transform=transform, eval_transform=transform)\n",
        "\n",
        "train_stream = benchmark.train_stream\n",
        "test_stream = benchmark.test_stream\n",
        "\n",
        "# Definir el optimizador y la función de pérdida\n",
        "optimizer = Adam(net.parameters(), lr=0.001)  # Puedes usar Adam o SGD\n",
        "criterion = nn.CrossEntropyLoss()\n",
        "\n",
        "# Crear el plugin de evaluación\n",
        "evaluation_plugin = EvaluationPlugin(\n",
        "    accuracy_metrics(experience=True, stream=True),\n",
        "    bwt_metrics(experience=True, stream=True),\n",
        "    confusion_matrix_metrics(num_classes=benchmark.n_classes, save_image=True, stream=True),\n",
        "    loggers=[InteractiveLogger()]\n",
        ")\n",
        "\n",
        "# Crear la estrategia de EWC (Elastic Weight Consolidation)\n",
        "cl_strategy = EWC(\n",
        "    net,\n",
        "    optimizer,\n",
        "    criterion,\n",
        "    ewc_lambda=0.4,\n",
        "    train_mb_size=128,\n",
        "    train_epochs=3,\n",
        "    eval_mb_size=128,\n",
        "    evaluator=evaluation_plugin\n",
        ")\n",
        "\n",
        "# Entrenar y evaluar el modelo en el stream de experiencias\n",
        "for experience in train_stream:\n",
        "    print(f\"Current experience: {experience.current_experience}\")\n",
        "    cl_strategy.train(experience)\n",
        "    print(\"Evaluating on the test set:\")\n",
        "    cl_strategy.eval(test_stream)\"\"\""
      ],
      "metadata": {
        "id": "_0MidmTE_KdU"
      },
      "execution_count": null,
      "outputs": []
    },
    {
      "cell_type": "code",
      "source": [
        "_mu = [0.485, 0.456, 0.406]  #Normalizacion\n",
        "_std = [0.229, 0.224, 0.225]\n",
        "\n",
        "transform = Compose([\n",
        "        Resize((224, 224)),\n",
        "        ToTensor(),\n",
        "        Normalize(mean=_mu,\n",
        "        std=_std)\n",
        "    ])\n",
        "\n",
        "benchmark = CORe50(scenario='ni', train_transform=transform, eval_transform=transform)"
      ],
      "metadata": {
        "id": "77yXZrUbnM7x",
        "colab": {
          "base_uri": "https://localhost:8080/"
        },
        "outputId": "8d2bb19d-d897-4217-938c-51e128360526"
      },
      "execution_count": null,
      "outputs": [
        {
          "output_type": "stream",
          "name": "stdout",
          "text": [
            "Loading labels...\n",
            "Loading LUP...\n",
            "Loading labels names...\n",
            "Files already downloaded and verified\n"
          ]
        }
      ]
    },
    {
      "cell_type": "code",
      "source": [
        "class SimpleCNN(nn.Module):\n",
        "    def __init__(self, num_classes):\n",
        "        super(SimpleCNN, self).__init__()\n",
        "        self.cnn = nn.Sequential(\n",
        "            nn.Conv2d(3, 64, kernel_size=3, padding=1),\n",
        "            nn.ReLU(),\n",
        "            nn.MaxPool2d(kernel_size=2, stride=2),\n",
        "            nn.Conv2d(64, 128, kernel_size=3, padding=1),\n",
        "            nn.ReLU(),\n",
        "            nn.MaxPool2d(kernel_size=2, stride=2),\n",
        "            nn.Flatten()\n",
        "        )\n",
        "        self.fc = nn.Linear(128*56*56, num_classes)\n",
        "\n",
        "    def forward(self, x):\n",
        "        x = self.cnn(x)\n",
        "        x = self.fc(x)\n",
        "        return x\n",
        "\n",
        "#Modelo, optimizador y función de pérdida\n",
        "model = SimpleCNN(num_classes=benchmark.n_classes)\n",
        "optimizer = SGD(model.parameters(), lr=0.01, momentum=0.9)\n",
        "criterion = nn.CrossEntropyLoss()\n",
        "\n",
        "interactive_logger = InteractiveLogger()\n",
        "\n",
        "evaluation_plugin = EvaluationPlugin(\n",
        "    accuracy_metrics(minibatch=True, epoch=True, experience=True, stream=True),\n",
        "    loss_metrics(minibatch=True, epoch=True, experience=True, stream=True),\n",
        "    bwt_metrics(experience=True, stream=True),\n",
        "    loggers=[interactive_logger]\n",
        ")\n",
        "\n",
        "cl_strategy = EWC(\n",
        "    model,\n",
        "    optimizer,\n",
        "    criterion,\n",
        "    ewc_lambda=2,\n",
        "    train_mb_size=128,\n",
        "    train_epochs=2,\n",
        "    eval_mb_size=128,\n",
        "    evaluator=evaluation_plugin\n",
        ")\n",
        "\n",
        "results = []\n",
        "for experience in benchmark.train_stream:\n",
        "    print(\"Entrenando en la experiencia\", experience.current_experience)\n",
        "    cl_strategy.train(experience)\n",
        "    print(\"Evaluando en todo el conjunto de prueba...\")\n",
        "    results.append(cl_strategy.eval(benchmark.test_stream))"
      ],
      "metadata": {
        "id": "q-FFMQ4OsXQk",
        "colab": {
          "base_uri": "https://localhost:8080/",
          "height": 914
        },
        "outputId": "b3dad0ea-63e8-4b27-e982-539ccbdeb6ef"
      },
      "execution_count": null,
      "outputs": [
        {
          "metadata": {
            "tags": null
          },
          "name": "stderr",
          "output_type": "stream",
          "text": [
            "/usr/local/lib/python3.10/dist-packages/avalanche/training/templates/base.py:468: PositionalArgumentsDeprecatedWarning: Avalanche is transitioning to strategy constructors that accept named (keyword) arguments only. This is done to ensure that there is no confusion regarding the meaning of each argument (strategies can have many arguments). Your are passing 3 positional arguments to the EWC.__init__ method. Consider passing them as names arguments. The ability to pass positional arguments will be removed in the future.\n",
            "  warnings.warn(error_str, category=PositionalArgumentsDeprecatedWarning)\n"
          ]
        },
        {
          "output_type": "stream",
          "name": "stdout",
          "text": [
            "Entrenando en la experiencia 0\n",
            "-- >> Start of training phase << --\n",
            "100%|██████████| 118/118 [1:11:51<00:00, 36.54s/it]\n",
            "Epoch 0 ended.\n",
            "\tLoss_Epoch/train_phase/train_stream/Task000 = 0.8979\n",
            "\tLoss_MB/train_phase/train_stream/Task000 = 0.0517\n",
            "\tTop1_Acc_Epoch/train_phase/train_stream/Task000 = 0.7615\n",
            "\tTop1_Acc_MB/train_phase/train_stream/Task000 = 1.0000\n",
            "100%|██████████| 118/118 [1:11:00<00:00, 36.11s/it]\n",
            "Epoch 1 ended.\n",
            "\tLoss_Epoch/train_phase/train_stream/Task000 = 0.0665\n",
            "\tLoss_MB/train_phase/train_stream/Task000 = 0.0032\n",
            "\tTop1_Acc_Epoch/train_phase/train_stream/Task000 = 0.9803\n",
            "\tTop1_Acc_MB/train_phase/train_stream/Task000 = 1.0000\n",
            "-- >> End of training phase << --\n",
            "Evaluando en todo el conjunto de prueba...\n",
            "-- >> Start of eval phase << --\n",
            "-- Starting eval on experience 0 (Task 0) from test stream --\n",
            "100%|██████████| 352/352 [1:39:54<00:00, 17.03s/it]\n",
            "> Eval on experience 0 (Task 0) from test stream ended.\n",
            "\tLoss_Exp/eval_phase/test_stream/Task000/Exp000 = 28.7804\n",
            "\tTop1_Acc_Exp/eval_phase/test_stream/Task000/Exp000 = 0.0635\n",
            "-- >> End of eval phase << --\n",
            "\tLoss_Stream/eval_phase/test_stream/Task000 = 28.7804\n",
            "\tStreamBWT/eval_phase/test_stream = 0.0000\n",
            "\tTop1_Acc_Stream/eval_phase/test_stream/Task000 = 0.0635\n",
            "Entrenando en la experiencia 1\n",
            "-- >> Start of training phase << --\n",
            " 25%|██▍       | 29/118 [17:36<53:01, 35.74s/it]"
          ]
        },
        {
          "output_type": "error",
          "ename": "KeyboardInterrupt",
          "evalue": "",
          "traceback": [
            "\u001b[0;31m---------------------------------------------------------------------------\u001b[0m",
            "\u001b[0;31mKeyboardInterrupt\u001b[0m                         Traceback (most recent call last)",
            "\u001b[0;32m<ipython-input-5-f02fa0067d36>\u001b[0m in \u001b[0;36m<cell line: 46>\u001b[0;34m()\u001b[0m\n\u001b[1;32m     46\u001b[0m \u001b[0;32mfor\u001b[0m \u001b[0mexperience\u001b[0m \u001b[0;32min\u001b[0m \u001b[0mbenchmark\u001b[0m\u001b[0;34m.\u001b[0m\u001b[0mtrain_stream\u001b[0m\u001b[0;34m:\u001b[0m\u001b[0;34m\u001b[0m\u001b[0;34m\u001b[0m\u001b[0m\n\u001b[1;32m     47\u001b[0m     \u001b[0mprint\u001b[0m\u001b[0;34m(\u001b[0m\u001b[0;34m\"Entrenando en la experiencia\"\u001b[0m\u001b[0;34m,\u001b[0m \u001b[0mexperience\u001b[0m\u001b[0;34m.\u001b[0m\u001b[0mcurrent_experience\u001b[0m\u001b[0;34m)\u001b[0m\u001b[0;34m\u001b[0m\u001b[0;34m\u001b[0m\u001b[0m\n\u001b[0;32m---> 48\u001b[0;31m     \u001b[0mcl_strategy\u001b[0m\u001b[0;34m.\u001b[0m\u001b[0mtrain\u001b[0m\u001b[0;34m(\u001b[0m\u001b[0mexperience\u001b[0m\u001b[0;34m)\u001b[0m\u001b[0;34m\u001b[0m\u001b[0;34m\u001b[0m\u001b[0m\n\u001b[0m\u001b[1;32m     49\u001b[0m     \u001b[0mprint\u001b[0m\u001b[0;34m(\u001b[0m\u001b[0;34m\"Evaluando en todo el conjunto de prueba...\"\u001b[0m\u001b[0;34m)\u001b[0m\u001b[0;34m\u001b[0m\u001b[0;34m\u001b[0m\u001b[0m\n\u001b[1;32m     50\u001b[0m     \u001b[0mresults\u001b[0m\u001b[0;34m.\u001b[0m\u001b[0mappend\u001b[0m\u001b[0;34m(\u001b[0m\u001b[0mcl_strategy\u001b[0m\u001b[0;34m.\u001b[0m\u001b[0meval\u001b[0m\u001b[0;34m(\u001b[0m\u001b[0mbenchmark\u001b[0m\u001b[0;34m.\u001b[0m\u001b[0mtest_stream\u001b[0m\u001b[0;34m)\u001b[0m\u001b[0;34m)\u001b[0m\u001b[0;34m\u001b[0m\u001b[0;34m\u001b[0m\u001b[0m\n",
            "\u001b[0;32m/usr/local/lib/python3.10/dist-packages/avalanche/training/templates/base_sgd.py\u001b[0m in \u001b[0;36mtrain\u001b[0;34m(self, experiences, eval_streams, **kwargs)\u001b[0m\n\u001b[1;32m    209\u001b[0m         \u001b[0;34m**\u001b[0m\u001b[0mkwargs\u001b[0m\u001b[0;34m\u001b[0m\u001b[0;34m\u001b[0m\u001b[0m\n\u001b[1;32m    210\u001b[0m     ):\n\u001b[0;32m--> 211\u001b[0;31m         \u001b[0msuper\u001b[0m\u001b[0;34m(\u001b[0m\u001b[0;34m)\u001b[0m\u001b[0;34m.\u001b[0m\u001b[0mtrain\u001b[0m\u001b[0;34m(\u001b[0m\u001b[0mexperiences\u001b[0m\u001b[0;34m,\u001b[0m \u001b[0meval_streams\u001b[0m\u001b[0;34m,\u001b[0m \u001b[0;34m**\u001b[0m\u001b[0mkwargs\u001b[0m\u001b[0;34m)\u001b[0m\u001b[0;34m\u001b[0m\u001b[0;34m\u001b[0m\u001b[0m\n\u001b[0m\u001b[1;32m    212\u001b[0m         \u001b[0;32mreturn\u001b[0m \u001b[0mself\u001b[0m\u001b[0;34m.\u001b[0m\u001b[0mevaluator\u001b[0m\u001b[0;34m.\u001b[0m\u001b[0mget_last_metrics\u001b[0m\u001b[0;34m(\u001b[0m\u001b[0;34m)\u001b[0m\u001b[0;34m\u001b[0m\u001b[0;34m\u001b[0m\u001b[0m\n\u001b[1;32m    213\u001b[0m \u001b[0;34m\u001b[0m\u001b[0m\n",
            "\u001b[0;32m/usr/local/lib/python3.10/dist-packages/avalanche/training/templates/base.py\u001b[0m in \u001b[0;36mtrain\u001b[0;34m(self, experiences, eval_streams, **kwargs)\u001b[0m\n\u001b[1;32m    161\u001b[0m         \u001b[0;32mfor\u001b[0m \u001b[0mself\u001b[0m\u001b[0;34m.\u001b[0m\u001b[0mexperience\u001b[0m \u001b[0;32min\u001b[0m \u001b[0mexperiences_list\u001b[0m\u001b[0;34m:\u001b[0m\u001b[0;34m\u001b[0m\u001b[0;34m\u001b[0m\u001b[0m\n\u001b[1;32m    162\u001b[0m             \u001b[0mself\u001b[0m\u001b[0;34m.\u001b[0m\u001b[0m_before_training_exp\u001b[0m\u001b[0;34m(\u001b[0m\u001b[0;34m**\u001b[0m\u001b[0mkwargs\u001b[0m\u001b[0;34m)\u001b[0m\u001b[0;34m\u001b[0m\u001b[0;34m\u001b[0m\u001b[0m\n\u001b[0;32m--> 163\u001b[0;31m             \u001b[0mself\u001b[0m\u001b[0;34m.\u001b[0m\u001b[0m_train_exp\u001b[0m\u001b[0;34m(\u001b[0m\u001b[0mself\u001b[0m\u001b[0;34m.\u001b[0m\u001b[0mexperience\u001b[0m\u001b[0;34m,\u001b[0m \u001b[0meval_streams\u001b[0m\u001b[0;34m,\u001b[0m \u001b[0;34m**\u001b[0m\u001b[0mkwargs\u001b[0m\u001b[0;34m)\u001b[0m\u001b[0;34m\u001b[0m\u001b[0;34m\u001b[0m\u001b[0m\n\u001b[0m\u001b[1;32m    164\u001b[0m             \u001b[0mself\u001b[0m\u001b[0;34m.\u001b[0m\u001b[0m_after_training_exp\u001b[0m\u001b[0;34m(\u001b[0m\u001b[0;34m**\u001b[0m\u001b[0mkwargs\u001b[0m\u001b[0;34m)\u001b[0m\u001b[0;34m\u001b[0m\u001b[0;34m\u001b[0m\u001b[0m\n\u001b[1;32m    165\u001b[0m         \u001b[0mself\u001b[0m\u001b[0;34m.\u001b[0m\u001b[0m_after_training\u001b[0m\u001b[0;34m(\u001b[0m\u001b[0;34m**\u001b[0m\u001b[0mkwargs\u001b[0m\u001b[0;34m)\u001b[0m\u001b[0;34m\u001b[0m\u001b[0;34m\u001b[0m\u001b[0m\n",
            "\u001b[0;32m/usr/local/lib/python3.10/dist-packages/avalanche/training/templates/base_sgd.py\u001b[0m in \u001b[0;36m_train_exp\u001b[0;34m(self, experience, eval_streams, **kwargs)\u001b[0m\n\u001b[1;32m    335\u001b[0m                 \u001b[0;32mbreak\u001b[0m\u001b[0;34m\u001b[0m\u001b[0;34m\u001b[0m\u001b[0m\n\u001b[1;32m    336\u001b[0m \u001b[0;34m\u001b[0m\u001b[0m\n\u001b[0;32m--> 337\u001b[0;31m             \u001b[0mself\u001b[0m\u001b[0;34m.\u001b[0m\u001b[0mtraining_epoch\u001b[0m\u001b[0;34m(\u001b[0m\u001b[0;34m**\u001b[0m\u001b[0mkwargs\u001b[0m\u001b[0;34m)\u001b[0m\u001b[0;34m\u001b[0m\u001b[0;34m\u001b[0m\u001b[0m\n\u001b[0m\u001b[1;32m    338\u001b[0m             \u001b[0mself\u001b[0m\u001b[0;34m.\u001b[0m\u001b[0m_after_training_epoch\u001b[0m\u001b[0;34m(\u001b[0m\u001b[0;34m**\u001b[0m\u001b[0mkwargs\u001b[0m\u001b[0;34m)\u001b[0m\u001b[0;34m\u001b[0m\u001b[0;34m\u001b[0m\u001b[0m\n\u001b[1;32m    339\u001b[0m \u001b[0;34m\u001b[0m\u001b[0m\n",
            "\u001b[0;32m/usr/local/lib/python3.10/dist-packages/avalanche/training/templates/update_type/sgd_update.py\u001b[0m in \u001b[0;36mtraining_epoch\u001b[0;34m(self, **kwargs)\u001b[0m\n\u001b[1;32m     36\u001b[0m \u001b[0;34m\u001b[0m\u001b[0m\n\u001b[1;32m     37\u001b[0m             \u001b[0mself\u001b[0m\u001b[0;34m.\u001b[0m\u001b[0m_before_backward\u001b[0m\u001b[0;34m(\u001b[0m\u001b[0;34m**\u001b[0m\u001b[0mkwargs\u001b[0m\u001b[0;34m)\u001b[0m\u001b[0;34m\u001b[0m\u001b[0;34m\u001b[0m\u001b[0m\n\u001b[0;32m---> 38\u001b[0;31m             \u001b[0mself\u001b[0m\u001b[0;34m.\u001b[0m\u001b[0mbackward\u001b[0m\u001b[0;34m(\u001b[0m\u001b[0;34m)\u001b[0m\u001b[0;34m\u001b[0m\u001b[0;34m\u001b[0m\u001b[0m\n\u001b[0m\u001b[1;32m     39\u001b[0m             \u001b[0mself\u001b[0m\u001b[0;34m.\u001b[0m\u001b[0m_after_backward\u001b[0m\u001b[0;34m(\u001b[0m\u001b[0;34m**\u001b[0m\u001b[0mkwargs\u001b[0m\u001b[0;34m)\u001b[0m\u001b[0;34m\u001b[0m\u001b[0;34m\u001b[0m\u001b[0m\n\u001b[1;32m     40\u001b[0m \u001b[0;34m\u001b[0m\u001b[0m\n",
            "\u001b[0;32m/usr/local/lib/python3.10/dist-packages/avalanche/training/templates/base_sgd.py\u001b[0m in \u001b[0;36mbackward\u001b[0;34m(self)\u001b[0m\n\u001b[1;32m    257\u001b[0m     \u001b[0;32mdef\u001b[0m \u001b[0mbackward\u001b[0m\u001b[0;34m(\u001b[0m\u001b[0mself\u001b[0m\u001b[0;34m)\u001b[0m\u001b[0;34m:\u001b[0m\u001b[0;34m\u001b[0m\u001b[0;34m\u001b[0m\u001b[0m\n\u001b[1;32m    258\u001b[0m         \u001b[0;34m\"\"\"Run the backward pass.\"\"\"\u001b[0m\u001b[0;34m\u001b[0m\u001b[0;34m\u001b[0m\u001b[0m\n\u001b[0;32m--> 259\u001b[0;31m         \u001b[0mself\u001b[0m\u001b[0;34m.\u001b[0m\u001b[0mloss\u001b[0m\u001b[0;34m.\u001b[0m\u001b[0mbackward\u001b[0m\u001b[0;34m(\u001b[0m\u001b[0mretain_graph\u001b[0m\u001b[0;34m=\u001b[0m\u001b[0mself\u001b[0m\u001b[0;34m.\u001b[0m\u001b[0mretain_graph\u001b[0m\u001b[0;34m)\u001b[0m\u001b[0;34m\u001b[0m\u001b[0;34m\u001b[0m\u001b[0m\n\u001b[0m\u001b[1;32m    260\u001b[0m \u001b[0;34m\u001b[0m\u001b[0m\n\u001b[1;32m    261\u001b[0m     \u001b[0;32mdef\u001b[0m \u001b[0moptimizer_step\u001b[0m\u001b[0;34m(\u001b[0m\u001b[0mself\u001b[0m\u001b[0;34m)\u001b[0m\u001b[0;34m:\u001b[0m\u001b[0;34m\u001b[0m\u001b[0;34m\u001b[0m\u001b[0m\n",
            "\u001b[0;32m/usr/local/lib/python3.10/dist-packages/torch/_tensor.py\u001b[0m in \u001b[0;36mbackward\u001b[0;34m(self, gradient, retain_graph, create_graph, inputs)\u001b[0m\n\u001b[1;32m    519\u001b[0m                 \u001b[0minputs\u001b[0m\u001b[0;34m=\u001b[0m\u001b[0minputs\u001b[0m\u001b[0;34m,\u001b[0m\u001b[0;34m\u001b[0m\u001b[0;34m\u001b[0m\u001b[0m\n\u001b[1;32m    520\u001b[0m             )\n\u001b[0;32m--> 521\u001b[0;31m         torch.autograd.backward(\n\u001b[0m\u001b[1;32m    522\u001b[0m             \u001b[0mself\u001b[0m\u001b[0;34m,\u001b[0m \u001b[0mgradient\u001b[0m\u001b[0;34m,\u001b[0m \u001b[0mretain_graph\u001b[0m\u001b[0;34m,\u001b[0m \u001b[0mcreate_graph\u001b[0m\u001b[0;34m,\u001b[0m \u001b[0minputs\u001b[0m\u001b[0;34m=\u001b[0m\u001b[0minputs\u001b[0m\u001b[0;34m\u001b[0m\u001b[0;34m\u001b[0m\u001b[0m\n\u001b[1;32m    523\u001b[0m         )\n",
            "\u001b[0;32m/usr/local/lib/python3.10/dist-packages/torch/autograd/__init__.py\u001b[0m in \u001b[0;36mbackward\u001b[0;34m(tensors, grad_tensors, retain_graph, create_graph, grad_variables, inputs)\u001b[0m\n\u001b[1;32m    287\u001b[0m     \u001b[0;31m# some Python versions print out the first line of a multi-line function\u001b[0m\u001b[0;34m\u001b[0m\u001b[0;34m\u001b[0m\u001b[0m\n\u001b[1;32m    288\u001b[0m     \u001b[0;31m# calls in the traceback and some print out the last line\u001b[0m\u001b[0;34m\u001b[0m\u001b[0;34m\u001b[0m\u001b[0m\n\u001b[0;32m--> 289\u001b[0;31m     _engine_run_backward(\n\u001b[0m\u001b[1;32m    290\u001b[0m         \u001b[0mtensors\u001b[0m\u001b[0;34m,\u001b[0m\u001b[0;34m\u001b[0m\u001b[0;34m\u001b[0m\u001b[0m\n\u001b[1;32m    291\u001b[0m         \u001b[0mgrad_tensors_\u001b[0m\u001b[0;34m,\u001b[0m\u001b[0;34m\u001b[0m\u001b[0;34m\u001b[0m\u001b[0m\n",
            "\u001b[0;32m/usr/local/lib/python3.10/dist-packages/torch/autograd/graph.py\u001b[0m in \u001b[0;36m_engine_run_backward\u001b[0;34m(t_outputs, *args, **kwargs)\u001b[0m\n\u001b[1;32m    766\u001b[0m         \u001b[0munregister_hooks\u001b[0m \u001b[0;34m=\u001b[0m \u001b[0m_register_logging_hooks_on_whole_graph\u001b[0m\u001b[0;34m(\u001b[0m\u001b[0mt_outputs\u001b[0m\u001b[0;34m)\u001b[0m\u001b[0;34m\u001b[0m\u001b[0;34m\u001b[0m\u001b[0m\n\u001b[1;32m    767\u001b[0m     \u001b[0;32mtry\u001b[0m\u001b[0;34m:\u001b[0m\u001b[0;34m\u001b[0m\u001b[0;34m\u001b[0m\u001b[0m\n\u001b[0;32m--> 768\u001b[0;31m         return Variable._execution_engine.run_backward(  # Calls into the C++ engine to run the backward pass\n\u001b[0m\u001b[1;32m    769\u001b[0m             \u001b[0mt_outputs\u001b[0m\u001b[0;34m,\u001b[0m \u001b[0;34m*\u001b[0m\u001b[0margs\u001b[0m\u001b[0;34m,\u001b[0m \u001b[0;34m**\u001b[0m\u001b[0mkwargs\u001b[0m\u001b[0;34m\u001b[0m\u001b[0;34m\u001b[0m\u001b[0m\n\u001b[1;32m    770\u001b[0m         )  # Calls into the C++ engine to run the backward pass\n",
            "\u001b[0;31mKeyboardInterrupt\u001b[0m: "
          ]
        }
      ]
    },
    {
      "cell_type": "code",
      "source": [
        "from google.colab import files\n",
        "files.upload()"
      ],
      "metadata": {
        "id": "Kp1aPf6HSrDa"
      },
      "execution_count": null,
      "outputs": []
    },
    {
      "cell_type": "code",
      "source": [
        "import os\n",
        "os.makedirs('/root/.kaggle/', exist_ok=True)\n",
        "!mv kaggle.json /root/.kaggle/\n",
        "!chmod 600 /root/.kaggle/kaggle.json\n",
        "\n",
        "#https://www.kaggle.com/datasets/kritanjalijain/amazon-reviews\n",
        "!kaggle datasets download -d kritanjalijain/amazon-reviews"
      ],
      "metadata": {
        "id": "5SwuNhcYS5pk"
      },
      "execution_count": null,
      "outputs": []
    },
    {
      "cell_type": "code",
      "source": [
        "os.listdir()"
      ],
      "metadata": {
        "id": "Eu1o7dO4TEDb"
      },
      "execution_count": null,
      "outputs": []
    },
    {
      "cell_type": "code",
      "source": [
        "import zipfile\n",
        "\n",
        "with zipfile.ZipFile('amazon-reviews.zip', 'r') as zip_ref:\n",
        "    zip_ref.extractall('/content/amazon-reviews')"
      ],
      "metadata": {
        "id": "e50-hKJ0TI0X"
      },
      "execution_count": null,
      "outputs": []
    },
    {
      "cell_type": "code",
      "source": [
        "os.listdir('/content/amazon-reviews')"
      ],
      "metadata": {
        "id": "j1dKk8-HTNcP"
      },
      "execution_count": null,
      "outputs": []
    },
    {
      "cell_type": "code",
      "source": [
        "TRAIN_CSV = '/content/amazon-reviews/train.csv'\n",
        "TEST_CSV = '/content/amazon-reviews/test.csv'\n",
        "\n",
        "trainAMAZON_df = pd.read_csv(TRAIN_CSV)\n",
        "testAMAZON_df = pd.read_csv(TEST_CSV)\n",
        "\n",
        "print(trainAMAZON_df.head())\n",
        "print(testAMAZON_df.head())"
      ],
      "metadata": {
        "id": "YRDM3RN8TQ93"
      },
      "execution_count": null,
      "outputs": []
    },
    {
      "cell_type": "code",
      "source": [
        "trainAMAZON_df.shape"
      ],
      "metadata": {
        "id": "l8quBjDdTW2M"
      },
      "execution_count": null,
      "outputs": []
    },
    {
      "cell_type": "code",
      "source": [
        "testAMAZON_df.shape"
      ],
      "metadata": {
        "id": "NJVIgqsMTYQd"
      },
      "execution_count": null,
      "outputs": []
    },
    {
      "cell_type": "code",
      "source": [
        "trainAMAZON_df.columns = ['label', 'title', 'text']\n",
        "trainAMAZON_df"
      ],
      "metadata": {
        "id": "wozimvEsfCPD"
      },
      "execution_count": null,
      "outputs": []
    },
    {
      "cell_type": "code",
      "source": [
        "testAMAZON_df.columns = ['label', 'title', 'text']\n",
        "testAMAZON_df"
      ],
      "metadata": {
        "id": "zaR1aMEEcsfs"
      },
      "execution_count": null,
      "outputs": []
    },
    {
      "cell_type": "code",
      "source": [
        "trainAMAZON_df = trainAMAZON_df.head(100000)\n",
        "testAMAZON_df = testAMAZON_df.head(10000)"
      ],
      "metadata": {
        "id": "I3ZcKnfifj57"
      },
      "execution_count": null,
      "outputs": []
    },
    {
      "cell_type": "code",
      "source": [
        "print(trainAMAZON_df['label'].value_counts())\n",
        "print(testAMAZON_df['label'].value_counts())"
      ],
      "metadata": {
        "id": "SwHWM_B-fuXD"
      },
      "execution_count": null,
      "outputs": []
    },
    {
      "cell_type": "code",
      "source": [
        "def concat_columns(df, col1, col2, new_col):\n",
        "    df[new_col] = df[col1].apply(str) + ' ' + df[col2].apply(str)\n",
        "    df.drop(col2, axis = 1, inplace = True)\n",
        "    return df\n",
        "\n",
        "trainAMAZON_df = concat_columns(trainAMAZON_df, 'text', 'title', 'text')\n",
        "testAMAZON_df = concat_columns(testAMAZON_df, 'text', 'title', 'text')"
      ],
      "metadata": {
        "id": "lXh6CmShf2AS"
      },
      "execution_count": null,
      "outputs": []
    },
    {
      "cell_type": "code",
      "source": [
        "trainAMAZON_df['label'] = trainAMAZON_df['label'].map({1:0, 2:1})\n",
        "testAMAZON_df['label'] = testAMAZON_df['label'].map({1:0, 2:1})"
      ],
      "metadata": {
        "id": "eXkW_VFLf8gc"
      },
      "execution_count": null,
      "outputs": []
    },
    {
      "cell_type": "code",
      "source": [
        "trainAMAZON_df"
      ],
      "metadata": {
        "id": "PaDpzqR0gK_J"
      },
      "execution_count": null,
      "outputs": []
    },
    {
      "cell_type": "code",
      "source": [
        "testAMAZON_df"
      ],
      "metadata": {
        "id": "fTF4xuIugMxs"
      },
      "execution_count": null,
      "outputs": []
    },
    {
      "cell_type": "markdown",
      "source": [
        "Limpieza de los datos"
      ],
      "metadata": {
        "id": "szjCVlN3ggsB"
      }
    },
    {
      "cell_type": "code",
      "source": [
        "def clean_text(text):\n",
        "    # Remove special characters and numbers\n",
        "    text = re.sub(r'[^A-Za-zÀ-ú ]+', '', text)\n",
        "    # Analyzing the most used words below, i chose to exclude these because there are too many and are unnecessary\n",
        "    text = re.sub('book|one', '', text)\n",
        "    # Convert to lower case\n",
        "    text = text.lower()\n",
        "    # remove scores\n",
        "    text = text.translate(str.maketrans('', '', string.punctuation))\n",
        "    # Remove extra whitespace\n",
        "    text = re.sub(r'\\s+', ' ', text).strip()\n",
        "    return text\n",
        "\n",
        "trainAMAZON_df['text'] = trainAMAZON_df['text'].apply(clean_text)\n",
        "testAMAZON_df['text'] = testAMAZON_df['text'].apply(clean_text)"
      ],
      "metadata": {
        "id": "FKIUtwivgiBq"
      },
      "execution_count": null,
      "outputs": []
    },
    {
      "cell_type": "code",
      "source": [
        "def remove_stopwords(texto):\n",
        "    stop_words = set(stopwords.words('english'))\n",
        "    tokens = nltk.word_tokenize(texto.lower())\n",
        "    return \" \".join([token for token in tokens if token not in stop_words])\n",
        "\n",
        "# Applying the function\n",
        "trainAMAZON_df['text'] = trainAMAZON_df['text'].apply(remove_stopwords)\n",
        "testAMAZON_df['text'] = testAMAZON_df['text'].apply(remove_stopwords)"
      ],
      "metadata": {
        "id": "6XcDQ_GHhIGN"
      },
      "execution_count": null,
      "outputs": []
    },
    {
      "cell_type": "code",
      "source": [
        "def normalize_text(text):\n",
        "    stemmer = SnowballStemmer(\"english\")\n",
        "    normalized_text = []\n",
        "    for word in text.split():\n",
        "        stemmed_word = stemmer.stem(word)\n",
        "        normalized_text.append(stemmed_word)\n",
        "    return ' '.join(normalized_text)\n",
        "\n",
        "# Applying the function\n",
        "trainAMAZON_df['text'] = trainAMAZON_df['text'].apply(normalize_text)\n",
        "testAMAZON_df['text'] = testAMAZON_df['text'].apply(normalize_text)"
      ],
      "metadata": {
        "id": "-pfaloLEiIyx"
      },
      "execution_count": null,
      "outputs": []
    },
    {
      "cell_type": "code",
      "source": [
        "words = []\n",
        "for text in trainAMAZON_df['text']:\n",
        "    words.extend(text.split())\n",
        "word_count = collections.Counter(words)\n",
        "top_words = dict(word_count.most_common(10))\n",
        "\n",
        "# Figure Size\n",
        "plt.figure(figsize = (10, 6))\n",
        "\n",
        "# Create the Barplot\n",
        "plt.bar(range(len(top_words)), list(top_words.values()), align = 'center')\n",
        "\n",
        "# Creating a y axis with words\n",
        "plt.xticks(range(len(top_words)), list(top_words.keys()))\n",
        "\n",
        "# Grid Opacity\n",
        "plt.grid(alpha = 0.5)\n",
        "\n",
        "# Title and labels\n",
        "plt.title('Top 10 most used words', fontsize = 18)\n",
        "plt.xlabel('Words')\n",
        "plt.ylabel('Frequency')\n",
        "\n",
        "\n",
        "\n",
        "\n",
        "words = []\n",
        "for text in testAMAZON_df['text']:\n",
        "    words.extend(text.split())\n",
        "word_count = collections.Counter(words)\n",
        "top_words = dict(word_count.most_common(10))\n",
        "\n",
        "# Figure Size\n",
        "plt.figure(figsize = (10, 6))\n",
        "\n",
        "# Create the Barplot\n",
        "plt.bar(range(len(top_words)), list(top_words.values()), align = 'center')\n",
        "\n",
        "# Creating a y axis with words\n",
        "plt.xticks(range(len(top_words)), list(top_words.keys()))\n",
        "\n",
        "# Grid Opacity\n",
        "plt.grid(alpha = 0.5)\n",
        "\n",
        "# Title and labels\n",
        "plt.title('Top 10 most used words', fontsize = 18)\n",
        "plt.xlabel('Words')\n",
        "plt.ylabel('Frequency')"
      ],
      "metadata": {
        "id": "OVp8HbaZ4wwX"
      },
      "execution_count": null,
      "outputs": []
    },
    {
      "cell_type": "markdown",
      "source": [
        "Procesamiento del texto"
      ],
      "metadata": {
        "id": "k6rDsvsHitNt"
      }
    },
    {
      "cell_type": "code",
      "source": [
        "# Maximum number of words to be considered in the vocabulary\n",
        "max_words = 10000\n",
        "# Maximum number of tokens in a sequence\n",
        "max_len = 200\n",
        "# Tokenizer\n",
        "tokenizer = Tokenizer(num_words = max_words)\n",
        "# Snap tokenizer to text data\n",
        "tokenizer.fit_on_texts(trainAMAZON_df['text'])\n",
        "# Converts texts into strings of numbers\n",
        "sequences_train = tokenizer.texts_to_sequences(trainAMAZON_df['text'])\n",
        "sequences_val = tokenizer.texts_to_sequences(testAMAZON_df['text'])\n",
        "# Mapping words to indexes\n",
        "word_index = tokenizer.word_index"
      ],
      "metadata": {
        "id": "dgvyyouYiuvJ"
      },
      "execution_count": null,
      "outputs": []
    },
    {
      "cell_type": "code",
      "source": [
        "# Sequence padding\n",
        "data_train = pad_sequences(sequences_train, maxlen = max_len, dtype='int32')\n",
        "data_val = pad_sequences(sequences_val, maxlen = max_len, dtype='int32')\n",
        "\n",
        "data_val.shape"
      ],
      "metadata": {
        "id": "EAgaUTRljUgY"
      },
      "execution_count": null,
      "outputs": []
    },
    {
      "cell_type": "code",
      "source": [
        "class TextDataset(Dataset):\n",
        "    def __init__(self, texts, labels):\n",
        "        self.texts = torch.tensor(texts, dtype=torch.long)\n",
        "        self.targets = torch.tensor(labels, dtype=torch.long)\n",
        "\n",
        "    def __len__(self):\n",
        "        return len(self.texts)\n",
        "\n",
        "    def __getitem__(self, idx):\n",
        "        return self.texts[idx], self.targets[idx]"
      ],
      "metadata": {
        "id": "QvtviGxBxlkK"
      },
      "execution_count": null,
      "outputs": []
    },
    {
      "cell_type": "code",
      "source": [
        "\"\"\"\n",
        "labels_train = trainAMAZON_df['label'].values.astype(int)\n",
        "labels_val = testAMAZON_df['label'].values.astype(int)\n",
        "\n",
        "train_dataset = TextDataset(data_train, labels_train)\n",
        "val_dataset = TextDataset(data_val, labels_val)\"\"\"\n",
        "\n",
        "\n",
        "\n",
        "\n",
        "\n",
        "\"\"\"train_labels = torch.tensor(trainAMAZON_df['label'].values, dtype=torch.float32)\n",
        "val_labels = torch.tensor(testAMAZON_df['label'].values, dtype=torch.float32)\n",
        "\n",
        "data_train = torch.tensor(data_train, dtype=torch.long)\n",
        "data_val = torch.tensor(data_val, dtype=torch.long)\n",
        "\n",
        "train_dataset = TensorDataset(data_train, train_labels)\n",
        "val_dataset = TensorDataset(data_val, val_labels)\n",
        "\n",
        "train_loader = DataLoader(train_dataset, batch_size=128, shuffle=True)\n",
        "val_loader = DataLoader(val_dataset, batch_size=128, shuffle=False)\"\"\"\n",
        "\n",
        "\n",
        "\n",
        "\n",
        "\"\"\"#Convertir las etiquetas de float a int (0 o 1)\n",
        "train_labels = torch.tensor(trainAMAZON_df['label'].values, dtype=torch.float32)\n",
        "val_labels = torch.tensor(testAMAZON_df['label'].values, dtype=torch.float32)\n",
        "\n",
        "data_train_np = data_train.numpy()\n",
        "data_val_np = data_val.numpy()\n",
        "\n",
        "train_dataset_benchmark = TextDataset(data_train_np, train_labels)\n",
        "val_dataset_benchmark = TextDataset(data_val_np, val_labels)\"\"\"\n",
        "\n",
        "\n",
        "\n",
        "\n",
        "\n",
        "\n",
        "train_labels = torch.tensor(trainAMAZON_df['label'].values, dtype=torch.float32)\n",
        "val_labels = torch.tensor(testAMAZON_df['label'].values, dtype=torch.float32)\n",
        "\n",
        "train_dataset_benchmark = TextDataset(data_train, train_labels)\n",
        "val_dataset_benchmark = TextDataset(data_val, val_labels)"
      ],
      "metadata": {
        "id": "ySW85QTawC9t"
      },
      "execution_count": null,
      "outputs": []
    },
    {
      "cell_type": "code",
      "source": [
        "benchmark = ni_benchmark(\n",
        "    train_dataset=train_dataset_benchmark,\n",
        "    test_dataset=val_dataset_benchmark,\n",
        "    n_experiences=10,\n",
        "    shuffle=True,\n",
        "    seed=1234,\n",
        "    task_labels=False\n",
        ")\n",
        "\n",
        "# Obtener los streams\n",
        "train_stream = benchmark.train_stream\n",
        "test_stream = benchmark.test_stream\n",
        "\n",
        "print(\"Benchmark creado con éxito.\")"
      ],
      "metadata": {
        "id": "hhQJWdgIy_GN"
      },
      "execution_count": null,
      "outputs": []
    },
    {
      "cell_type": "code",
      "source": [
        "class SentimentNet(nn.Module):\n",
        "    def __init__(\n",
        "        self,\n",
        "        vocab_size,\n",
        "        output_size,\n",
        "        embedding_dim,\n",
        "        hidden_dim,\n",
        "        n_layers,\n",
        "        drop_prob=0.5,\n",
        "    ):\n",
        "        super(SentimentNet, self).__init__()\n",
        "        self.output_size = output_size\n",
        "        self.n_layers = n_layers\n",
        "        self.hidden_dim = hidden_dim\n",
        "\n",
        "        self.embedding = nn.Embedding(vocab_size, embedding_dim)\n",
        "        self.lstm = nn.LSTM(\n",
        "            embedding_dim, hidden_dim, n_layers, dropout=drop_prob, batch_first=True\n",
        "        )\n",
        "        self.dropout = nn.Dropout(drop_prob)\n",
        "        self.fc = nn.Linear(hidden_dim, output_size)\n",
        "        self.sigmoid = nn.Sigmoid()\n",
        "\n",
        "    def forward(self, x):\n",
        "        batch_size = x.size(0)\n",
        "\n",
        "        hidden = self.init_hidden(batch_size)\n",
        "\n",
        "        x = x.long()\n",
        "\n",
        "        embeds = self.embedding(x)\n",
        "\n",
        "        lstm_out, hidden = self.lstm(embeds, hidden)\n",
        "\n",
        "        lstm_out = lstm_out.contiguous().view(-1, self.hidden_dim)\n",
        "        out = self.dropout(lstm_out)\n",
        "        out = self.fc(out)\n",
        "        out = self.sigmoid(out)\n",
        "        out = out.view(batch_size, -1)\n",
        "        out = out[:, -1]\n",
        "        return out\n",
        "\n",
        "    def init_hidden(self, batch_size):\n",
        "        weight = next(self.parameters()).data\n",
        "        hidden = (\n",
        "            weight.new(self.n_layers, batch_size, self.hidden_dim).zero_(),\n",
        "            weight.new(self.n_layers, batch_size, self.hidden_dim).zero_(),\n",
        "        )\n",
        "        return hidden\n",
        "\n",
        "\n",
        "output_size = 1\n",
        "embedding_dim = 400\n",
        "hidden_dim = 512\n",
        "n_layers = 2\n",
        "\n",
        "\n",
        "\n",
        "max_words = 10000\n",
        "embed_dim = 16\n",
        "max_len = 200\n",
        "\n",
        "\n",
        "model = SentimentNet(max_words, output_size, embedding_dim, hidden_dim, n_layers)\n",
        "print(model)\n",
        "\n",
        "criterion = torch.nn.BCELoss() #Binary Cross Entropy\n",
        "#optimizer = SGD(model.parameters(), lr=10)\n",
        "optimizer = Adam(model.parameters(), lr=2)\n",
        "\n",
        "#Funcion de perdida para arreglar los long-float\n",
        "class CustomBCELoss(nn.Module):\n",
        "    def __init__(self):\n",
        "        super().__init__()\n",
        "        self.bce = nn.BCELoss()\n",
        "\n",
        "    def forward(self, input, target):\n",
        "        #print(f'Output: {input}')\n",
        "        #print(f'Target: {target}')\n",
        "\n",
        "        return self.bce(input, target.float())\n",
        "\n",
        "interactive_logger = InteractiveLogger()\n",
        "\n",
        "criterion = CustomBCELoss()\n",
        "\n",
        "evaluation_plugin = EvaluationPlugin(\n",
        "    accuracy_metrics(minibatch=True, epoch=True, experience=True, stream=True),\n",
        "    forgetting_metrics(experience=True, stream=True),\n",
        "    loggers=[interactive_logger]\n",
        ")\n",
        "\n",
        "cl_strategy = EWC(\n",
        "    model=model,\n",
        "    optimizer=optimizer,\n",
        "    criterion=criterion,\n",
        "    ewc_lambda=0.4,\n",
        "    train_mb_size=64,\n",
        "    train_epochs=5,\n",
        "    eval_mb_size=64,\n",
        "    evaluator=evaluation_plugin\n",
        ")\n",
        "\n",
        "for experience in train_stream:\n",
        "    print(\"Current experience: {}\".format(experience.current_experience))\n",
        "    print(\"Current Classes: \", experience.classes_in_this_experience)\n",
        "    cl_strategy.train(experience)\n",
        "    print(\"Evaluating on the test set:\")\n",
        "    cl_strategy.eval(test_stream)"
      ],
      "metadata": {
        "id": "oJs3IU7Lu1av"
      },
      "execution_count": null,
      "outputs": []
    },
    {
      "cell_type": "code",
      "source": [
        "\"\"\"class SimpleNN(nn.Module):\n",
        "    def __init__(self, vocab_size, embed_dim, max_len):\n",
        "        super(SimpleNN, self).__init__()\n",
        "        self.embedding = nn.Embedding(vocab_size, embed_dim)\n",
        "        self.global_avg_pool = nn.AdaptiveAvgPool1d(1)\n",
        "        self.fc = nn.Linear(embed_dim, 1)\n",
        "        #self.fc = nn.Linear(embed_dim, 64)\n",
        "        #self.fc2 = nn.Linear(64, 1)\n",
        "        self.sigmoid = nn.Sigmoid()\n",
        "\n",
        "    def forward(self, x):\n",
        "        x = self.embedding(x)\n",
        "        x = x.permute(0, 2, 1)\n",
        "        x = self.global_avg_pool(x)\n",
        "        x = x.squeeze(-1)\n",
        "        x = self.fc(x)\n",
        "        x = self.sigmoid(x)\n",
        "        return x.squeeze()\n",
        "\n",
        "\n",
        "max_words = 10000\n",
        "embed_dim = 16\n",
        "max_len = 200\n",
        "\n",
        "\n",
        "model = SimpleNN(vocab_size=max_words, embed_dim=embed_dim, max_len=max_len)\n",
        "\n",
        "criterion = torch.nn.BCELoss()\n",
        "#optimizer = SGD(model.parameters(), lr=10)\n",
        "optimizer = Adam(model.parameters(), lr=2)\n",
        "\n",
        "#Funcion de perdida para arreglar los long-float\n",
        "class CustomBCELoss(nn.Module):\n",
        "    def __init__(self):\n",
        "        super().__init__()\n",
        "        self.bce = nn.BCELoss()\n",
        "\n",
        "    def forward(self, input, target):\n",
        "        #print(f'Output: {input}')\n",
        "        #print(f'Target: {target}')\n",
        "\n",
        "        return self.bce(input, target.float())\n",
        "\n",
        "interactive_logger = InteractiveLogger()\n",
        "\n",
        "criterion = CustomBCELoss()\n",
        "evaluation_plugin = EvaluationPlugin(\n",
        "    accuracy_metrics(minibatch=True, epoch=True, experience=True, stream=True),\n",
        "    forgetting_metrics(experience=True, stream=True),\n",
        "    loggers=[interactive_logger]\n",
        ")\n",
        "\n",
        "cl_strategy = EWC(\n",
        "    model=model,\n",
        "    optimizer=optimizer,\n",
        "    criterion=criterion,\n",
        "    ewc_lambda=0.4,\n",
        "    train_mb_size=64,\n",
        "    train_epochs=15,\n",
        "    eval_mb_size=64,\n",
        "    evaluator=evaluation_plugin\n",
        ")\n",
        "\n",
        "for experience in train_stream:\n",
        "    print(\"Current experience: {}\".format(experience.current_experience))\n",
        "    print(\"Current Classes: \", experience.classes_in_this_experience)\n",
        "    cl_strategy.train(experience)\n",
        "    print(\"Evaluating on the test set:\")\n",
        "    cl_strategy.eval(test_stream)\"\"\""
      ],
      "metadata": {
        "id": "kiIQQPamzr9T"
      },
      "execution_count": null,
      "outputs": []
    }
  ]
}